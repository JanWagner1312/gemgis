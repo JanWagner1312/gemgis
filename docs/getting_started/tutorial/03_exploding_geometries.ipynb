{
 "cells": [
  {
   "cell_type": "markdown",
   "metadata": {},
   "source": [
    "# 03 Exploding Geometries\n",
    "\n",
    "It is necessary for some operations to explode or to split the existing geometries such as LineStrings, MultiLineStrings or Polygons in single parts. \n",
    "\n",
    "<img src=\"../images/tutorial03_cover.png\">"
   ]
  },
  {
   "cell_type": "markdown",
   "metadata": {},
   "source": [
    "## Set File Paths and download Tutorial Data\n",
    "\n",
    "If you downloaded the latest `GemGIS` version from the Github repository, append the path so that the package can be imported successfully. Otherwise, it is recommended to install `GemGIS` via `pip install gemgis` and import `GemGIS` using `import gemgis as gg`. In addition, the file path to the folder where the data is being stored is set. The tutorial data is downloaded using Pooch (https://www.fatiando.org/pooch/latest/index.html) and stored in the specified folder. Use `pip install pooch` if Pooch is not installed on your system yet."
   ]
  },
  {
   "cell_type": "code",
   "execution_count": 1,
   "metadata": {
    "ExecuteTime": {
     "end_time": "2021-03-17T10:53:48.165578Z",
     "start_time": "2021-03-17T10:53:46.055041Z"
    }
   },
   "outputs": [
    {
     "name": "stderr",
     "output_type": "stream",
     "text": [
      "C:\\Users\\ale93371\\Anaconda3\\envs\\gemgis\\lib\\site-packages\\gemgis\\gemgis.py:27: UserWarning: Shapely 2.0 is installed, but because PyGEOS is also installed, GeoPandas will still use PyGEOS by default for now. To force to use and test Shapely 2.0, you have to set the environment variable USE_PYGEOS=0. You can do this before starting the Python process, or in your code before importing geopandas:\n",
      "\n",
      "import os\n",
      "os.environ['USE_PYGEOS'] = '0'\n",
      "import geopandas\n",
      "\n",
      "In a future release, GeoPandas will switch to using Shapely by default. If you are using PyGEOS directly (calling PyGEOS functions on geometries from GeoPandas), this will then stop working and you are encouraged to migrate from PyGEOS to Shapely 2.0 (https://shapely.readthedocs.io/en/latest/migration_pygeos.html).\n",
      "  import geopandas as gpd\n"
     ]
    }
   ],
   "source": [
    "import gemgis as gg\n",
    "\n",
    "file_path ='data/03_exploding_geometries/'"
   ]
  },
  {
   "cell_type": "code",
   "execution_count": 2,
   "metadata": {
    "ExecuteTime": {
     "end_time": "2021-03-17T10:53:48.258748Z",
     "start_time": "2021-03-17T10:53:48.214818Z"
    }
   },
   "outputs": [],
   "source": [
    "gg.download_gemgis_data.download_tutorial_data(filename=\"03_exploding_geometries.zip\", dirpath=file_path)"
   ]
  },
  {
   "cell_type": "markdown",
   "metadata": {},
   "source": [
    "## Exploding LineStrings into single elements\n",
    "\n",
    "LineStrings can be exploded into a list of Shapely Points using the ``explode_linestring()`` function of the vector module. The function uses the built-in Shapely attribute `linestring.coords` to extract the vertices.\n"
   ]
  },
  {
   "cell_type": "code",
   "execution_count": 3,
   "metadata": {
    "ExecuteTime": {
     "end_time": "2020-12-26T11:31:26.398945Z",
     "start_time": "2020-12-26T11:31:20.948939Z"
    }
   },
   "outputs": [
    {
     "data": {
      "image/svg+xml": [
       "<svg xmlns=\"http://www.w3.org/2000/svg\" xmlns:xlink=\"http://www.w3.org/1999/xlink\" width=\"100.0\" height=\"100.0\" viewBox=\"-0.6 -0.6 16.2 6.199999999999999\" preserveAspectRatio=\"xMinYMin meet\"><g transform=\"matrix(1,0,0,-1,0,5.0)\"><polyline fill=\"none\" stroke=\"#66cc99\" stroke-width=\"0.324\" points=\"0.0,0.0 5.0,5.0 10.0,0.0 15.0,5.0\" opacity=\"0.8\" /></g></svg>"
      ],
      "text/plain": [
       "<LINESTRING (0 0, 5 5, 10 0, 15 5)>"
      ]
     },
     "execution_count": 3,
     "metadata": {},
     "output_type": "execute_result"
    }
   ],
   "source": [
    "from shapely.geometry import LineString\n",
    "import matplotlib.pyplot as plt\n",
    "import geopandas as gpd\n",
    "import pandas as pd\n",
    "import gemgis as gg\n",
    "\n",
    "linestring = LineString([(0,0), (5,5), (10,0), (15,5)])\n",
    "\n",
    "linestring"
   ]
  },
  {
   "cell_type": "markdown",
   "metadata": {},
   "source": [
    "### Exploding the LineString\n",
    "\n",
    "Exploding the LineString and returning a list of points. "
   ]
  },
  {
   "cell_type": "code",
   "execution_count": 4,
   "metadata": {
    "ExecuteTime": {
     "end_time": "2020-12-29T18:27:35.902122Z",
     "start_time": "2020-12-29T18:27:35.849815Z"
    }
   },
   "outputs": [
    {
     "data": {
      "text/plain": [
       "[<POINT (0 0)>, <POINT (5 5)>, <POINT (10 0)>, <POINT (15 5)>]"
      ]
     },
     "execution_count": 4,
     "metadata": {},
     "output_type": "execute_result"
    }
   ],
   "source": [
    "point_list = gg.vector.explode_linestring(linestring=linestring)\n",
    "point_list"
   ]
  },
  {
   "cell_type": "markdown",
   "metadata": {},
   "source": [
    "### Inspecting the elements of the returned list\n",
    "\n",
    "Each element of the list is a Shapely Point object."
   ]
  },
  {
   "cell_type": "code",
   "execution_count": 5,
   "metadata": {
    "ExecuteTime": {
     "end_time": "2020-12-29T18:27:37.368012Z",
     "start_time": "2020-12-29T18:27:37.314071Z"
    }
   },
   "outputs": [
    {
     "data": {
      "image/svg+xml": [
       "<svg xmlns=\"http://www.w3.org/2000/svg\" xmlns:xlink=\"http://www.w3.org/1999/xlink\" width=\"100.0\" height=\"100.0\" viewBox=\"-1.0 -1.0 2.0 2.0\" preserveAspectRatio=\"xMinYMin meet\"><g transform=\"matrix(1,0,0,-1,0,0.0)\"><circle cx=\"0.0\" cy=\"0.0\" r=\"0.06\" stroke=\"#555555\" stroke-width=\"0.02\" fill=\"#66cc99\" opacity=\"0.6\" /></g></svg>"
      ],
      "text/plain": [
       "<POINT (0 0)>"
      ]
     },
     "execution_count": 5,
     "metadata": {},
     "output_type": "execute_result"
    }
   ],
   "source": [
    "point_list[0]"
   ]
  },
  {
   "cell_type": "code",
   "execution_count": 6,
   "metadata": {
    "ExecuteTime": {
     "end_time": "2020-12-29T18:27:48.105039Z",
     "start_time": "2020-12-29T18:27:48.059974Z"
    }
   },
   "outputs": [
    {
     "data": {
      "text/plain": [
       "'POINT (0 0)'"
      ]
     },
     "execution_count": 6,
     "metadata": {},
     "output_type": "execute_result"
    }
   ],
   "source": [
    "point_list[0].wkt"
   ]
  },
  {
   "cell_type": "markdown",
   "metadata": {},
   "source": [
    "### Creating GeoDataFrame\n",
    "\n",
    "A GeoDataFrame is created for better visualization."
   ]
  },
  {
   "cell_type": "code",
   "execution_count": 7,
   "metadata": {
    "ExecuteTime": {
     "end_time": "2020-11-29T13:10:32.490488Z",
     "start_time": "2020-11-29T13:10:32.462460Z"
    }
   },
   "outputs": [
    {
     "data": {
      "text/html": [
       "<div>\n",
       "<style scoped>\n",
       "    .dataframe tbody tr th:only-of-type {\n",
       "        vertical-align: middle;\n",
       "    }\n",
       "\n",
       "    .dataframe tbody tr th {\n",
       "        vertical-align: top;\n",
       "    }\n",
       "\n",
       "    .dataframe thead th {\n",
       "        text-align: right;\n",
       "    }\n",
       "</style>\n",
       "<table border=\"1\" class=\"dataframe\">\n",
       "  <thead>\n",
       "    <tr style=\"text-align: right;\">\n",
       "      <th></th>\n",
       "      <th>geometry</th>\n",
       "    </tr>\n",
       "  </thead>\n",
       "  <tbody>\n",
       "    <tr>\n",
       "      <th>0</th>\n",
       "      <td>POINT (0.00000 0.00000)</td>\n",
       "    </tr>\n",
       "    <tr>\n",
       "      <th>1</th>\n",
       "      <td>POINT (5.00000 5.00000)</td>\n",
       "    </tr>\n",
       "    <tr>\n",
       "      <th>2</th>\n",
       "      <td>POINT (10.00000 0.00000)</td>\n",
       "    </tr>\n",
       "    <tr>\n",
       "      <th>3</th>\n",
       "      <td>POINT (15.00000 5.00000)</td>\n",
       "    </tr>\n",
       "  </tbody>\n",
       "</table>\n",
       "</div>"
      ],
      "text/plain": [
       "                   geometry\n",
       "0   POINT (0.00000 0.00000)\n",
       "1   POINT (5.00000 5.00000)\n",
       "2  POINT (10.00000 0.00000)\n",
       "3  POINT (15.00000 5.00000)"
      ]
     },
     "execution_count": 7,
     "metadata": {},
     "output_type": "execute_result"
    }
   ],
   "source": [
    "point_gdf = gpd.GeoDataFrame(geometry=point_list)\n",
    "\n",
    "point_gdf"
   ]
  },
  {
   "cell_type": "markdown",
   "metadata": {},
   "source": [
    "### Plotting the Data\n",
    "\n",
    "The extracted vertices of the lines can now be plotted using ``matplotlib``. "
   ]
  },
  {
   "cell_type": "code",
   "execution_count": 8,
   "metadata": {
    "ExecuteTime": {
     "end_time": "2020-11-29T13:10:32.745078Z",
     "start_time": "2020-11-29T13:10:32.509471Z"
    }
   },
   "outputs": [
    {
     "data": {
      "image/png": "[encoded data removed]",
      "text/plain": [
       "<Figure size 640x480 with 1 Axes>"
      ]
     },
     "metadata": {},
     "output_type": "display_data"
    }
   ],
   "source": [
    "point_gdf.plot()\n",
    "plt.grid()"
   ]
  },
  {
   "cell_type": "markdown",
   "metadata": {},
   "source": [
    "## Exploding LineStrings into single elements\n",
    "\n",
    "LineStrings can be split into a list of single LineStrings using the ``explode_linestring_to_element()`` function of the vector module. It is based on the Shapely `split()` function. \n"
   ]
  },
  {
   "cell_type": "code",
   "execution_count": 9,
   "metadata": {
    "ExecuteTime": {
     "end_time": "2020-12-29T18:30:30.704954Z",
     "start_time": "2020-12-29T18:30:30.690655Z"
    }
   },
   "outputs": [
    {
     "data": {
      "image/svg+xml": [
       "<svg xmlns=\"http://www.w3.org/2000/svg\" xmlns:xlink=\"http://www.w3.org/1999/xlink\" width=\"100.0\" height=\"100.0\" viewBox=\"-0.6 -0.6 16.2 6.199999999999999\" preserveAspectRatio=\"xMinYMin meet\"><g transform=\"matrix(1,0,0,-1,0,5.0)\"><polyline fill=\"none\" stroke=\"#66cc99\" stroke-width=\"0.324\" points=\"0.0,0.0 5.0,5.0 10.0,0.0 15.0,5.0\" opacity=\"0.8\" /></g></svg>"
      ],
      "text/plain": [
       "<LINESTRING (0 0, 5 5, 10 0, 15 5)>"
      ]
     },
     "execution_count": 9,
     "metadata": {},
     "output_type": "execute_result"
    }
   ],
   "source": [
    "from shapely.geometry import LineString\n",
    "import matplotlib.pyplot as plt\n",
    "import geopandas as gpd\n",
    "import pandas as pd\n",
    "import gemgis as gg\n",
    "\n",
    "linestring = LineString([(0,0), (5,5), (10,0), (15,5)])\n",
    "\n",
    "linestring"
   ]
  },
  {
   "cell_type": "markdown",
   "metadata": {},
   "source": [
    "### Creating GeoDataFrame\n",
    "\n",
    "Creating GeoDataFrame from LineString"
   ]
  },
  {
   "cell_type": "code",
   "execution_count": 10,
   "metadata": {
    "ExecuteTime": {
     "end_time": "2020-11-29T13:10:32.825111Z",
     "start_time": "2020-11-29T13:10:32.796092Z"
    }
   },
   "outputs": [
    {
     "data": {
      "text/html": [
       "<div>\n",
       "<style scoped>\n",
       "    .dataframe tbody tr th:only-of-type {\n",
       "        vertical-align: middle;\n",
       "    }\n",
       "\n",
       "    .dataframe tbody tr th {\n",
       "        vertical-align: top;\n",
       "    }\n",
       "\n",
       "    .dataframe thead th {\n",
       "        text-align: right;\n",
       "    }\n",
       "</style>\n",
       "<table border=\"1\" class=\"dataframe\">\n",
       "  <thead>\n",
       "    <tr style=\"text-align: right;\">\n",
       "      <th></th>\n",
       "      <th>geometry</th>\n",
       "    </tr>\n",
       "  </thead>\n",
       "  <tbody>\n",
       "    <tr>\n",
       "      <th>0</th>\n",
       "      <td>LINESTRING (0.00000 0.00000, 5.00000 5.00000, ...</td>\n",
       "    </tr>\n",
       "  </tbody>\n",
       "</table>\n",
       "</div>"
      ],
      "text/plain": [
       "                                            geometry\n",
       "0  LINESTRING (0.00000 0.00000, 5.00000 5.00000, ..."
      ]
     },
     "execution_count": 10,
     "metadata": {},
     "output_type": "execute_result"
    }
   ],
   "source": [
    "linestring_gdf = gpd.GeoDataFrame(geometry=[linestring])\n",
    "\n",
    "linestring_gdf"
   ]
  },
  {
   "cell_type": "markdown",
   "metadata": {},
   "source": [
    "### Splitting the LineString\n",
    "\n",
    "A list of single LineStrings will be created when exploding the input LineString. This list can easily be converted to a GeoDataFrame. It can be seen that the input LineString was split into three parts and that the end points of each part coincide with the original LineString vertices.\n"
   ]
  },
  {
   "cell_type": "code",
   "execution_count": 11,
   "metadata": {
    "ExecuteTime": {
     "end_time": "2020-11-29T13:10:32.857101Z",
     "start_time": "2020-11-29T13:10:32.844099Z"
    }
   },
   "outputs": [
    {
     "ename": "TypeError",
     "evalue": "'GeometryCollection' object is not subscriptable",
     "output_type": "error",
     "traceback": [
      "\u001b[1;31m---------------------------------------------------------------------------\u001b[0m",
      "\u001b[1;31mTypeError\u001b[0m                                 Traceback (most recent call last)",
      "Input \u001b[1;32mIn [11]\u001b[0m, in \u001b[0;36m<cell line: 1>\u001b[1;34m()\u001b[0m\n\u001b[1;32m----> 1\u001b[0m linestring_list \u001b[38;5;241m=\u001b[39m \u001b[43mgg\u001b[49m\u001b[38;5;241;43m.\u001b[39;49m\u001b[43mvector\u001b[49m\u001b[38;5;241;43m.\u001b[39;49m\u001b[43mexplode_linestring_to_elements\u001b[49m\u001b[43m(\u001b[49m\u001b[43mlinestring\u001b[49m\u001b[38;5;241;43m=\u001b[39;49m\u001b[43mlinestring\u001b[49m\u001b[43m)\u001b[49m\n\u001b[0;32m      3\u001b[0m linestring_list\n",
      "File \u001b[1;32m~\\Anaconda3\\envs\\gemgis\\lib\\site-packages\\gemgis\\vector.py:2192\u001b[0m, in \u001b[0;36mexplode_linestring_to_elements\u001b[1;34m(linestring)\u001b[0m\n\u001b[0;32m   2189\u001b[0m     \u001b[38;5;28;01mraise\u001b[39;00m \u001b[38;5;167;01mValueError\u001b[39;00m(\u001b[38;5;124m'\u001b[39m\u001b[38;5;124mLineString must contain at least two vertices\u001b[39m\u001b[38;5;124m'\u001b[39m)\n\u001b[0;32m   2191\u001b[0m \u001b[38;5;66;03m# Splitting the LineString into single elements and returning a list of LineStrings\u001b[39;00m\n\u001b[1;32m-> 2192\u001b[0m splitted_linestrings \u001b[38;5;241m=\u001b[39m [ops\u001b[38;5;241m.\u001b[39msplit(ops\u001b[38;5;241m.\u001b[39msplit(linestring, geometry\u001b[38;5;241m.\u001b[39mPoint(linestring\u001b[38;5;241m.\u001b[39mcoords[i \u001b[38;5;241m+\u001b[39m \u001b[38;5;241m1\u001b[39m]))[\u001b[38;5;241m0\u001b[39m],\n\u001b[0;32m   2193\u001b[0m                                   geometry\u001b[38;5;241m.\u001b[39mPoint(linestring\u001b[38;5;241m.\u001b[39mcoords[i]))[\u001b[38;5;241m-\u001b[39m\u001b[38;5;241m1\u001b[39m]\n\u001b[0;32m   2194\u001b[0m                         \u001b[38;5;28;01mfor\u001b[39;00m i \u001b[38;5;129;01min\u001b[39;00m \u001b[38;5;28mrange\u001b[39m(\u001b[38;5;28mlen\u001b[39m(linestring\u001b[38;5;241m.\u001b[39mcoords) \u001b[38;5;241m-\u001b[39m \u001b[38;5;241m1\u001b[39m)]\n\u001b[0;32m   2196\u001b[0m \u001b[38;5;28;01mreturn\u001b[39;00m splitted_linestrings\n",
      "File \u001b[1;32m~\\Anaconda3\\envs\\gemgis\\lib\\site-packages\\gemgis\\vector.py:2192\u001b[0m, in \u001b[0;36m<listcomp>\u001b[1;34m(.0)\u001b[0m\n\u001b[0;32m   2189\u001b[0m     \u001b[38;5;28;01mraise\u001b[39;00m \u001b[38;5;167;01mValueError\u001b[39;00m(\u001b[38;5;124m'\u001b[39m\u001b[38;5;124mLineString must contain at least two vertices\u001b[39m\u001b[38;5;124m'\u001b[39m)\n\u001b[0;32m   2191\u001b[0m \u001b[38;5;66;03m# Splitting the LineString into single elements and returning a list of LineStrings\u001b[39;00m\n\u001b[1;32m-> 2192\u001b[0m splitted_linestrings \u001b[38;5;241m=\u001b[39m [ops\u001b[38;5;241m.\u001b[39msplit(\u001b[43mops\u001b[49m\u001b[38;5;241;43m.\u001b[39;49m\u001b[43msplit\u001b[49m\u001b[43m(\u001b[49m\u001b[43mlinestring\u001b[49m\u001b[43m,\u001b[49m\u001b[43m \u001b[49m\u001b[43mgeometry\u001b[49m\u001b[38;5;241;43m.\u001b[39;49m\u001b[43mPoint\u001b[49m\u001b[43m(\u001b[49m\u001b[43mlinestring\u001b[49m\u001b[38;5;241;43m.\u001b[39;49m\u001b[43mcoords\u001b[49m\u001b[43m[\u001b[49m\u001b[43mi\u001b[49m\u001b[43m \u001b[49m\u001b[38;5;241;43m+\u001b[39;49m\u001b[43m \u001b[49m\u001b[38;5;241;43m1\u001b[39;49m\u001b[43m]\u001b[49m\u001b[43m)\u001b[49m\u001b[43m)\u001b[49m\u001b[43m[\u001b[49m\u001b[38;5;241;43m0\u001b[39;49m\u001b[43m]\u001b[49m,\n\u001b[0;32m   2193\u001b[0m                                   geometry\u001b[38;5;241m.\u001b[39mPoint(linestring\u001b[38;5;241m.\u001b[39mcoords[i]))[\u001b[38;5;241m-\u001b[39m\u001b[38;5;241m1\u001b[39m]\n\u001b[0;32m   2194\u001b[0m                         \u001b[38;5;28;01mfor\u001b[39;00m i \u001b[38;5;129;01min\u001b[39;00m \u001b[38;5;28mrange\u001b[39m(\u001b[38;5;28mlen\u001b[39m(linestring\u001b[38;5;241m.\u001b[39mcoords) \u001b[38;5;241m-\u001b[39m \u001b[38;5;241m1\u001b[39m)]\n\u001b[0;32m   2196\u001b[0m \u001b[38;5;28;01mreturn\u001b[39;00m splitted_linestrings\n",
      "\u001b[1;31mTypeError\u001b[0m: 'GeometryCollection' object is not subscriptable"
     ]
    }
   ],
   "source": [
    "linestring_list = gg.vector.explode_linestring_to_elements(linestring=linestring)\n",
    "\n",
    "linestring_list"
   ]
  },
  {
   "cell_type": "markdown",
   "metadata": {},
   "source": [
    "### Inspecting the different elements of the returned list\n",
    "\n",
    "The different elements of the list are Shapely LineString."
   ]
  },
  {
   "cell_type": "code",
   "execution_count": null,
   "metadata": {
    "ExecuteTime": {
     "end_time": "2020-11-29T13:10:32.905130Z",
     "start_time": "2020-11-29T13:10:32.891110Z"
    }
   },
   "outputs": [],
   "source": [
    "linestring_list[0]"
   ]
  },
  {
   "cell_type": "code",
   "execution_count": null,
   "metadata": {},
   "outputs": [],
   "source": [
    "linestring_list[0].wkt"
   ]
  },
  {
   "cell_type": "code",
   "execution_count": null,
   "metadata": {
    "ExecuteTime": {
     "end_time": "2020-11-29T13:10:32.937131Z",
     "start_time": "2020-11-29T13:10:32.923116Z"
    }
   },
   "outputs": [],
   "source": [
    "linestring_list[1]"
   ]
  },
  {
   "cell_type": "code",
   "execution_count": null,
   "metadata": {},
   "outputs": [],
   "source": [
    "linestring_list[1].wkt"
   ]
  },
  {
   "cell_type": "code",
   "execution_count": null,
   "metadata": {
    "ExecuteTime": {
     "end_time": "2020-11-29T13:10:32.969127Z",
     "start_time": "2020-11-29T13:10:32.956123Z"
    }
   },
   "outputs": [],
   "source": [
    "linestring_list[2]"
   ]
  },
  {
   "cell_type": "code",
   "execution_count": null,
   "metadata": {},
   "outputs": [],
   "source": [
    "linestring_list[2].wkt"
   ]
  },
  {
   "cell_type": "markdown",
   "metadata": {},
   "source": [
    "### Creating GeoDataFrame\n",
    "\n",
    "Creating a GeoDataFrame from the list of LineStrings."
   ]
  },
  {
   "cell_type": "code",
   "execution_count": null,
   "metadata": {
    "ExecuteTime": {
     "end_time": "2020-11-29T13:11:43.321045Z",
     "start_time": "2020-11-29T13:11:43.297442Z"
    }
   },
   "outputs": [],
   "source": [
    "linestring_gdf = gpd.GeoDataFrame(geometry=linestring_list)\n",
    "\n",
    "linestring_gdf['id'] = ['1', '2', '3']\n",
    "linestring_gdf"
   ]
  },
  {
   "cell_type": "markdown",
   "metadata": {},
   "source": [
    "### Plotting the Result\n",
    "\n",
    "Plotting the single LineStrings. "
   ]
  },
  {
   "cell_type": "code",
   "execution_count": null,
   "metadata": {
    "ExecuteTime": {
     "end_time": "2020-11-29T13:11:43.793050Z",
     "start_time": "2020-11-29T13:11:43.478644Z"
    }
   },
   "outputs": [],
   "source": [
    "linestring_gdf.plot(column='id', legend=True, cmap='viridis')\n",
    "plt.grid()"
   ]
  },
  {
   "cell_type": "markdown",
   "metadata": {},
   "source": [
    "## Exploding MultiLineStrings\n",
    "\n",
    "MultiLineStrings can be split into a list of single LineStrings (with multiple vertices) using the ``explode_multilinestring()`` function of the vector module. This can also be achieved by accessing the LineStrings via `list(multilinestring.coords)`. If MultiLineStrings are provided as a GeoDataFrame, the function `explode_multilinestrings` can be used. This functions uses the built-in `gdf.explode()` function of GeoPandas. \n"
   ]
  },
  {
   "cell_type": "code",
   "execution_count": null,
   "metadata": {},
   "outputs": [],
   "source": [
    "from shapely.geometry import MultiLineString\n",
    "import matplotlib.pyplot as plt\n",
    "import geopandas as gpd\n",
    "import gemgis as gg\n",
    "\n",
    "linestrings = [((0,0), (5,5)), ((10,0), (15,5))]\n",
    "\n",
    "multilinestring = MultiLineString(linestrings)\n",
    "multilinestring"
   ]
  },
  {
   "cell_type": "markdown",
   "metadata": {},
   "source": [
    "### Creating GeoDataFrame\n",
    "\n",
    "Creating a GeoDataFrame from the MultiLineString."
   ]
  },
  {
   "cell_type": "code",
   "execution_count": null,
   "metadata": {},
   "outputs": [],
   "source": [
    "multilinestring_gdf = gpd.GeoDataFrame(geometry=[multilinestring])\n",
    "\n",
    "multilinestring_gdf"
   ]
  },
  {
   "cell_type": "markdown",
   "metadata": {},
   "source": [
    "### Splitting the MultiLineString\n",
    "\n",
    "A list of single LineStrings (with multiple vertices) will be created when exploding the input MultiLineString. This list can easily be converted to a GeoDataFrame. It can be seen that the input MultiLineString was split into two single LineStrings and that the end points of each part coincide with the original MultiLineString vertices.\n"
   ]
  },
  {
   "cell_type": "code",
   "execution_count": null,
   "metadata": {},
   "outputs": [],
   "source": [
    "multilinestring_list = gg.vector.explode_multilinestring(multilinestring=multilinestring)\n",
    "\n",
    "multilinestring_list"
   ]
  },
  {
   "cell_type": "markdown",
   "metadata": {},
   "source": [
    "### Inspecting the elements of the returned list\n",
    "\n",
    "The elements of the created list are Shapely LineStrings."
   ]
  },
  {
   "cell_type": "code",
   "execution_count": null,
   "metadata": {},
   "outputs": [],
   "source": [
    "multilinestring_list[0]"
   ]
  },
  {
   "cell_type": "code",
   "execution_count": null,
   "metadata": {},
   "outputs": [],
   "source": [
    "multilinestring_list[0].wkt"
   ]
  },
  {
   "cell_type": "code",
   "execution_count": null,
   "metadata": {},
   "outputs": [],
   "source": [
    "multilinestring_list[1]"
   ]
  },
  {
   "cell_type": "code",
   "execution_count": null,
   "metadata": {},
   "outputs": [],
   "source": [
    "multilinestring_list[1].wkt"
   ]
  },
  {
   "cell_type": "markdown",
   "metadata": {},
   "source": [
    "### Creating GeoDataFrame\n",
    "\n",
    "Creating a GeoDataFrame from the list of LineStrings."
   ]
  },
  {
   "cell_type": "code",
   "execution_count": null,
   "metadata": {},
   "outputs": [],
   "source": [
    "gdf = gpd.GeoDataFrame(geometry=multilinestring_list)\n",
    "gdf"
   ]
  },
  {
   "cell_type": "markdown",
   "metadata": {},
   "source": [
    "### Plotting the Result\n",
    "\n",
    "Plotting the different LineStrings. "
   ]
  },
  {
   "cell_type": "code",
   "execution_count": null,
   "metadata": {},
   "outputs": [],
   "source": [
    "gdf.plot()\n",
    "plt.grid()"
   ]
  },
  {
   "cell_type": "markdown",
   "metadata": {},
   "source": [
    "### Creating GeoDataFrame\n",
    "\n",
    "A GeoDataFrame containig multiple MultiLineStrings can be exploded to LineStrings using `explode_multilinestrings(..)`."
   ]
  },
  {
   "cell_type": "code",
   "execution_count": null,
   "metadata": {},
   "outputs": [],
   "source": [
    "splitted_multilinestring_gdf = gg.vector.explode_multilinestrings(pd.concat([multilinestring_gdf, multilinestring_gdf]).reset_index().drop('index', axis=1))\n",
    "splitted_multilinestring_gdf"
   ]
  },
  {
   "cell_type": "markdown",
   "metadata": {},
   "source": [
    "## Additional Arguments\n",
    "\n",
    "Several additional arguments can be passed to adapt the functionality of the function. For further reference, see the [API Reference for extract_xy](https://gemgis.readthedocs.io/en/latest/api_reference/vector_data.html).\n",
    "\n",
    "* reset_index (bool)\n",
    "* drop_level0 (bool)\n",
    "* drop_level1 (bool)\n",
    "\n",
    "\n",
    "### Original Function\n",
    "Using the original function but not resetting the index."
   ]
  },
  {
   "cell_type": "code",
   "execution_count": null,
   "metadata": {},
   "outputs": [],
   "source": [
    "splitted_multilinestring_gdf = gg.vector.explode_multilinestrings(pd.concat([multilinestring_gdf, multilinestring_gdf]).reset_index().drop('index', axis=1),\n",
    "                                                                  reset_index=False,\n",
    "                                                                  drop_level0=False,\n",
    "                                                                  drop_level1=False)\n",
    "splitted_multilinestring_gdf"
   ]
  },
  {
   "cell_type": "markdown",
   "metadata": {},
   "source": [
    "### Resetting index but not additional columns\n",
    "\n",
    "Resetting the index but not dropping the additional columns that were created."
   ]
  },
  {
   "cell_type": "code",
   "execution_count": null,
   "metadata": {},
   "outputs": [],
   "source": [
    "splitted_multilinestring_gdf = gg.vector.explode_multilinestrings(pd.concat([multilinestring_gdf, multilinestring_gdf]).reset_index().drop('index', axis=1),\n",
    "                                                                 reset_index=True,\n",
    "                                                                 drop_level0=False,\n",
    "                                                                 drop_level1=False)\n",
    "splitted_multilinestring_gdf"
   ]
  },
  {
   "cell_type": "markdown",
   "metadata": {},
   "source": [
    "## Exploding Polygons\n",
    "\n",
    "Polygons can be split into a list of single Points using the ``explode_polygon()`` function of the vector module. If Polygons are provided as a GeoDataFrame, the function `explode_polygons` can be used. This functions uses the built-in `gdf.boundary` attribute of a GeoDataFrame to convert Polygons into LineStrings and MultiLineStrings."
   ]
  },
  {
   "cell_type": "code",
   "execution_count": null,
   "metadata": {},
   "outputs": [],
   "source": [
    "from shapely.geometry import Polygon\n",
    "import matplotlib.pyplot as plt\n",
    "import geopandas as gpd\n",
    "import gemgis as gg\n",
    "\n",
    "polygon = Polygon([(0, 0), (10, 0), (10, 10), (0, 10)])\n",
    "polygon"
   ]
  },
  {
   "cell_type": "markdown",
   "metadata": {},
   "source": [
    "### Exploding the Polygon\n",
    "\n",
    "A list of single Points will be created when exploding the input Polygon. This list can easily be converted to a GeoDataFrame. It can be seen that the input Polygon was split into five single points corresponding to the corner points of the Polygon.\n"
   ]
  },
  {
   "cell_type": "code",
   "execution_count": null,
   "metadata": {},
   "outputs": [],
   "source": [
    "points_list = gg.vector.explode_polygon(polygon=polygon)\n",
    "points_list"
   ]
  },
  {
   "cell_type": "markdown",
   "metadata": {},
   "source": [
    "### Inspecting the elements of the returned list\n",
    "\n",
    "The elements of the created list are Shapely Points"
   ]
  },
  {
   "cell_type": "code",
   "execution_count": null,
   "metadata": {},
   "outputs": [],
   "source": [
    "points_list[0]"
   ]
  },
  {
   "cell_type": "code",
   "execution_count": null,
   "metadata": {
    "ExecuteTime": {
     "end_time": "2020-12-29T18:38:18.085850Z",
     "start_time": "2020-12-29T18:38:18.020813Z"
    }
   },
   "outputs": [],
   "source": [
    "points_list[0].wkt"
   ]
  },
  {
   "cell_type": "markdown",
   "metadata": {},
   "source": [
    "### Creating GeoDataFrame\n",
    "\n",
    "Creating a GeoDataFrame from the list of points."
   ]
  },
  {
   "cell_type": "code",
   "execution_count": null,
   "metadata": {},
   "outputs": [],
   "source": [
    "gdf = gpd.GeoDataFrame(geometry=points_list)\n",
    "gdf"
   ]
  },
  {
   "cell_type": "markdown",
   "metadata": {},
   "source": [
    "### Plotting the Result\n",
    "\n",
    "Plotting the five points."
   ]
  },
  {
   "cell_type": "code",
   "execution_count": null,
   "metadata": {},
   "outputs": [],
   "source": [
    "gdf.plot()\n",
    "plt.grid()"
   ]
  },
  {
   "cell_type": "markdown",
   "metadata": {},
   "source": [
    "### Creating GeoDataFrame\n",
    "\n",
    "A GeoDataFrame containig multiple polygons can be exploded to LineStrings and MultiLineStrings using `explode_polygons(..)`."
   ]
  },
  {
   "cell_type": "code",
   "execution_count": null,
   "metadata": {},
   "outputs": [],
   "source": [
    "gdf = gpd.GeoDataFrame(geometry=[polygon, polygon])\n",
    "gdf"
   ]
  },
  {
   "cell_type": "markdown",
   "metadata": {},
   "source": [
    "### Exploding the Polygons\n",
    "\n",
    "Exploding the polygons into LineStrings and MultiLineStrings."
   ]
  },
  {
   "cell_type": "code",
   "execution_count": null,
   "metadata": {},
   "outputs": [],
   "source": [
    "boundary_gdf = gg.vector.explode_polygons(gdf=gdf)\n",
    "boundary_gdf"
   ]
  },
  {
   "cell_type": "markdown",
   "metadata": {},
   "source": [
    "### Plotting the Result\n",
    "\n",
    "Plotting the LineStrings."
   ]
  },
  {
   "cell_type": "code",
   "execution_count": null,
   "metadata": {},
   "outputs": [],
   "source": [
    "boundary_gdf.plot()\n",
    "plt.grid()"
   ]
  },
  {
   "cell_type": "markdown",
   "metadata": {},
   "source": [
    "## Exploding Geometry Collections\n",
    "\n",
    "Shapely Geometry Collections can be exploded into a list of Base Geometries using ``explode_geometry_collection(..)``."
   ]
  },
  {
   "cell_type": "code",
   "execution_count": null,
   "metadata": {
    "ExecuteTime": {
     "end_time": "2020-12-26T11:30:52.898035Z",
     "start_time": "2020-12-26T11:30:52.871382Z"
    }
   },
   "outputs": [],
   "source": [
    "from shapely.geometry import LineString\n",
    "a = LineString([(0, 0), (1, 1), (1, 2), (2, 2)])\n",
    "b = LineString([(0, 0), (1, 1), (2, 1), (2, 2)])\n",
    "collection = a.intersection(b)\n",
    "type(collection)"
   ]
  },
  {
   "cell_type": "code",
   "execution_count": null,
   "metadata": {
    "ExecuteTime": {
     "end_time": "2020-12-26T11:31:01.515459Z",
     "start_time": "2020-12-26T11:31:01.500958Z"
    }
   },
   "outputs": [],
   "source": [
    "collection"
   ]
  },
  {
   "cell_type": "markdown",
   "metadata": {},
   "source": [
    "### Explode Geometry Collection\n",
    "\n",
    "The Shapely Geometry Collection can be exploded to a list of Base Geometries using ``explode_geometry_collection(..)``."
   ]
  },
  {
   "cell_type": "code",
   "execution_count": null,
   "metadata": {
    "ExecuteTime": {
     "end_time": "2020-12-26T11:31:26.446197Z",
     "start_time": "2020-12-26T11:31:26.433934Z"
    }
   },
   "outputs": [],
   "source": [
    "collection_exploded = gg.vector.explode_geometry_collection(collection=collection)\n",
    "collection_exploded"
   ]
  },
  {
   "cell_type": "markdown",
   "metadata": {},
   "source": [
    "### Inspecting the elements in the returned list\n",
    "\n",
    "The elements of the returned list can be inspected to show the exploded geometries of the Geometry Collection."
   ]
  },
  {
   "cell_type": "code",
   "execution_count": null,
   "metadata": {
    "ExecuteTime": {
     "end_time": "2020-12-26T11:31:36.095849Z",
     "start_time": "2020-12-26T11:31:36.076850Z"
    }
   },
   "outputs": [],
   "source": [
    "collection_exploded[0]"
   ]
  },
  {
   "cell_type": "code",
   "execution_count": null,
   "metadata": {},
   "outputs": [],
   "source": [
    "collection_exploded[0].wkt"
   ]
  },
  {
   "cell_type": "code",
   "execution_count": null,
   "metadata": {
    "ExecuteTime": {
     "end_time": "2020-12-26T11:31:40.818875Z",
     "start_time": "2020-12-26T11:31:40.801244Z"
    }
   },
   "outputs": [],
   "source": [
    "collection_exploded[1]"
   ]
  },
  {
   "cell_type": "code",
   "execution_count": null,
   "metadata": {},
   "outputs": [],
   "source": [
    "collection_exploded[1].wkt"
   ]
  },
  {
   "cell_type": "markdown",
   "metadata": {},
   "source": [
    "## Exploding Collections of different Geometries in GeoDataFrame\n",
    "\n",
    "A GeoDataFrame containing different Base Geometries can be exploded to single Base Geometries. "
   ]
  },
  {
   "cell_type": "code",
   "execution_count": null,
   "metadata": {
    "ExecuteTime": {
     "end_time": "2020-12-26T11:42:29.228995Z",
     "start_time": "2020-12-26T11:42:29.213816Z"
    }
   },
   "outputs": [],
   "source": [
    "from shapely.geometry import Polygon, LineString\n",
    "\n",
    "line1 = LineString([(0, 0), (1, 1), (1, 2), (2, 2)])\n",
    "line2 = LineString([(0, 0), (1, 1), (2, 1), (2, 2)])\n",
    "collection = a.intersection(b)\n",
    "polygon = Polygon([(0, 0), (10, 0), (10, 10), (0, 10)])"
   ]
  },
  {
   "cell_type": "markdown",
   "metadata": {},
   "source": [
    "### Creating GeoDataFrame"
   ]
  },
  {
   "cell_type": "code",
   "execution_count": null,
   "metadata": {
    "ExecuteTime": {
     "end_time": "2020-12-26T11:42:29.545299Z",
     "start_time": "2020-12-26T11:42:29.519318Z"
    }
   },
   "outputs": [],
   "source": [
    "gdf = gpd.GeoDataFrame(geometry=[line1, line2, collection, polygon])\n",
    "gdf"
   ]
  },
  {
   "cell_type": "markdown",
   "metadata": {},
   "source": [
    "### Exploding Geometry Collection GeoDataFrame\n",
    "\n",
    "A GeoDataFrame containing different Base Geometries or Geometry Collections can be exploded using ``explode_geometry_collections(..)``."
   ]
  },
  {
   "cell_type": "code",
   "execution_count": null,
   "metadata": {
    "ExecuteTime": {
     "end_time": "2020-12-26T11:42:36.026368Z",
     "start_time": "2020-12-26T11:42:35.990669Z"
    }
   },
   "outputs": [],
   "source": [
    "gdf_exploded = gg.vector.explode_geometry_collections(gdf=gdf)\n",
    "gdf_exploded"
   ]
  }
 ],
 "metadata": {
  "hide_input": false,
  "kernelspec": {
   "display_name": "Python 3 (ipykernel)",
   "language": "python",
   "name": "python3"
  },
  "language_info": {
   "codemirror_mode": {
    "name": "ipython",
    "version": 3
   },
   "file_extension": ".py",
   "mimetype": "text/x-python",
   "name": "python",
   "nbconvert_exporter": "python",
   "pygments_lexer": "ipython3",
   "version": "3.10.8"
  },
  "varInspector": {
   "cols": {
    "lenName": 16,
    "lenType": 16,
    "lenVar": 40
   },
   "kernels_config": {
    "python": {
     "delete_cmd_postfix": "",
     "delete_cmd_prefix": "del ",
     "library": "var_list.py",
     "varRefreshCmd": "print(var_dic_list())"
    },
    "r": {
     "delete_cmd_postfix": ") ",
     "delete_cmd_prefix": "rm(",
     "library": "var_list.r",
     "varRefreshCmd": "cat(var_dic_list()) "
    }
   },
   "types_to_exclude": [
    "module",
    "function",
    "builtin_function_or_method",
    "instance",
    "_Feature"
   ],
   "window_display": false
  }
 },
 "nbformat": 4,
 "nbformat_minor": 4
}
