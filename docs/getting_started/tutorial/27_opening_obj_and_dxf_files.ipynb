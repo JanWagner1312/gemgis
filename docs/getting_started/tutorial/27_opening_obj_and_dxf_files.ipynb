{
 "cells": [
  {
   "cell_type": "markdown",
   "metadata": {},
   "source": [
    "# 27 Opening OBJ and DXF Files with PyVista in GemGIS\n",
    "\n",
    "OBJ and DXF Files can be opened with GemGIS and visualized with PyVista. \n",
    "\n",
    "\n",
    "\n",
    "<img src=\"../images/tutorial27_cover.png\">"
   ]
  },
  {
   "cell_type": "markdown",
   "metadata": {},
   "source": [
    "## Set File Paths and download Tutorial Data\n",
    "\n",
    "If you downloaded the latest `GemGIS` version from the Github repository, append the path so that the package can be imported successfully. Otherwise, it is recommended to install `GemGIS` via `pip install gemgis` and import `GemGIS` using `import gemgis as gg`. In addition, the file path to the folder where the data is being stored is set. The tutorial data is downloaded using Pooch (https://www.fatiando.org/pooch/latest/index.html) and stored in the specified folder. Use `pip install pooch` if Pooch is not installed on your system yet."
   ]
  },
  {
   "cell_type": "code",
   "execution_count": 1,
   "metadata": {
    "ExecuteTime": {
     "end_time": "2021-03-17T11:22:36.144980Z",
     "start_time": "2021-03-17T11:22:33.774959Z"
    }
   },
   "outputs": [
    {
     "name": "stderr",
     "output_type": "stream",
     "text": [
      "C:\\Users\\ale93371\\Anaconda3\\envs\\gemgis\\lib\\site-packages\\gemgis\\gemgis.py:27: UserWarning: Shapely 2.0 is installed, but because PyGEOS is also installed, GeoPandas will still use PyGEOS by default for now. To force to use and test Shapely 2.0, you have to set the environment variable USE_PYGEOS=0. You can do this before starting the Python process, or in your code before importing geopandas:\n",
      "\n",
      "import os\n",
      "os.environ['USE_PYGEOS'] = '0'\n",
      "import geopandas\n",
      "\n",
      "In a future release, GeoPandas will switch to using Shapely by default. If you are using PyGEOS directly (calling PyGEOS functions on geometries from GeoPandas), this will then stop working and you are encouraged to migrate from PyGEOS to Shapely 2.0 (https://shapely.readthedocs.io/en/latest/migration_pygeos.html).\n",
      "  import geopandas as gpd\n"
     ]
    }
   ],
   "source": [
    "import gemgis as gg\n",
    "\n",
    "file_path ='data/27_opening_obj_and_dxf_files/'"
   ]
  },
  {
   "cell_type": "code",
   "execution_count": 2,
   "metadata": {
    "ExecuteTime": {
     "end_time": "2021-03-17T11:22:36.331088Z",
     "start_time": "2021-03-17T11:22:36.209228Z"
    }
   },
   "outputs": [
    {
     "name": "stderr",
     "output_type": "stream",
     "text": [
      "Downloading file '27_opening_obj_and_dxf_files.zip' from 'https://rwth-aachen.sciebo.de/s/AfXRsZywYDbUF34/download?path=%2F27_opening_obj_and_dxf_files.zip' to 'C:\\Users\\ale93371\\Documents\\gemgis\\docs\\getting_started\\tutorial\\data\\27_opening_obj_and_dxf_files'.\n"
     ]
    }
   ],
   "source": [
    "gg.download_gemgis_data.download_tutorial_data(filename=\"27_opening_obj_and_dxf_files.zip\", dirpath=file_path)"
   ]
  },
  {
   "cell_type": "markdown",
   "metadata": {},
   "source": [
    "## Loading OBJ File using PyVista\n",
    "\n",
    "The obj file can easily be loaded and plotted using PyVista."
   ]
  },
  {
   "cell_type": "code",
   "execution_count": 3,
   "metadata": {
    "ExecuteTime": {
     "end_time": "2021-03-14T12:55:25.953869Z",
     "start_time": "2021-03-14T12:55:22.758527Z"
    }
   },
   "outputs": [
    {
     "data": {
      "text/html": [
       "<table><tr><th>Header</th><th>Data Arrays</th></tr><tr><td>\n",
       "<table>\n",
       "<tr><th>PolyData</th><th>Information</th></tr>\n",
       "<tr><td>N Cells</td><td>49152</td></tr>\n",
       "<tr><td>N Points</td><td>196608</td></tr>\n",
       "<tr><td>N Strips</td><td>0</td></tr>\n",
       "<tr><td>X Bounds</td><td>-1.576e+00, 2.530e+00</td></tr>\n",
       "<tr><td>Y Bounds</td><td>-9.167e-01, 1.000e+00</td></tr>\n",
       "<tr><td>Z Bounds</td><td>-1.000e+00, 9.751e+00</td></tr>\n",
       "<tr><td>N Arrays</td><td>6</td></tr>\n",
       "</table>\n",
       "\n",
       "</td><td>\n",
       "<table>\n",
       "<tr><th>Name</th><th>Field</th><th>Type</th><th>N Comp</th><th>Min</th><th>Max</th></tr>\n",
       "<tr><td>Material</td><td>Points</td><td>float32</td><td>2</td><td>0.000e+00</td><td>8.750e-01</td></tr>\n",
       "<tr><td>Normals</td><td>Points</td><td>float32</td><td>3</td><td>-1.000e+00</td><td>1.000e+00</td></tr>\n",
       "<tr><td>MaterialIds</td><td>Cells</td><td>int32</td><td>1</td><td>0.000e+00</td><td>0.000e+00</td></tr>\n",
       "<tr><td>GroupIds</td><td>Cells</td><td>float32</td><td>1</td><td>0.000e+00</td><td>0.000e+00</td></tr>\n",
       "<tr><td>MaterialNames</td><td>Fields</td><td><U8</td><td>1</td><td>nan</td><td>nan</td></tr>\n",
       "<tr><td>MaterialLibraries</td><td>Fields</td><td><U11</td><td>1</td><td>nan</td><td>nan</td></tr>\n",
       "</table>\n",
       "\n",
       "</td></tr> </table>"
      ],
      "text/plain": [
       "PolyData (0x23de4877d00)\n",
       "  N Cells:\t49152\n",
       "  N Points:\t196608\n",
       "  N Strips:\t0\n",
       "  X Bounds:\t-1.576e+00, 2.530e+00\n",
       "  Y Bounds:\t-9.167e-01, 1.000e+00\n",
       "  Z Bounds:\t-1.000e+00, 9.751e+00\n",
       "  N Arrays:\t6"
      ]
     },
     "execution_count": 3,
     "metadata": {},
     "output_type": "execute_result"
    }
   ],
   "source": [
    "import pyvista as pv\n",
    "\n",
    "mesh = pv.read(file_path + 'Channel.obj')\n",
    "mesh"
   ]
  },
  {
   "cell_type": "markdown",
   "metadata": {},
   "source": [
    "## Plotting the mesh using PyVista\n",
    "\n",
    "The loaded mesh can be plotted using PyVista again."
   ]
  },
  {
   "cell_type": "code",
   "execution_count": 4,
   "metadata": {
    "ExecuteTime": {
     "end_time": "2021-03-14T12:55:26.359970Z",
     "start_time": "2021-03-14T12:55:25.955869Z"
    }
   },
   "outputs": [
    {
     "name": "stderr",
     "output_type": "stream",
     "text": [
      "C:\\Users\\ale93371\\Anaconda3\\envs\\gemgis\\lib\\site-packages\\pyvista\\jupyter\\notebook.py:60: UserWarning: Failed to use notebook backend: \n",
      "\n",
      "Please install `ipyvtklink` to use this feature: https://github.com/Kitware/ipyvtklink\n",
      "\n",
      "Falling back to a static output.\n",
      "  warnings.warn(\n"
     ]
    },
    {
     "data": {
      "image/png": "[encoded data removed]",
      "text/plain": [
       "<PIL.Image.Image image mode=RGB size=1024x768>"
      ]
     },
     "metadata": {},
     "output_type": "display_data"
    }
   ],
   "source": [
    "sargs = dict(fmt=\"%.0f\", color='black')\n",
    "\n",
    "p = pv.Plotter(notebook=True)\n",
    "\n",
    "p.add_mesh(mesh,scalar_bar_args=sargs)\n",
    "\n",
    "p.camera_position=[(15.33958702947096, 9.654312885616765, -9.581353852513592),\n",
    " (0.5404866466699564, -0.29141440140763164, 4.2033639107058445),\n",
    " (-0.3459193991987702, 0.8968436300281839, 0.2757014191763108)]\n",
    "\n",
    "p.set_background('white')\n",
    "p.show_grid(color='black')\n",
    "p.show()"
   ]
  },
  {
   "cell_type": "markdown",
   "metadata": {},
   "source": [
    "## Loading the DXF File using GeoPandas\n",
    "\n",
    "DXF Files can be loaded using GeoPandas. The faces are then stored as ``POLYGON Z`` objects containing not only the X and Y values but also a Z value. Each polygon is made of 3 vertices of which the start and endpoint are identical (3 different vertices). In order to build the mesh, the vertices need to be extracted. The faces are equal to the single polygons."
   ]
  },
  {
   "cell_type": "code",
   "execution_count": 5,
   "metadata": {
    "ExecuteTime": {
     "end_time": "2021-03-14T12:55:30.610058Z",
     "start_time": "2021-03-14T12:55:26.362975Z"
    }
   },
   "outputs": [
    {
     "data": {
      "text/html": [
       "<div>\n",
       "<style scoped>\n",
       "    .dataframe tbody tr th:only-of-type {\n",
       "        vertical-align: middle;\n",
       "    }\n",
       "\n",
       "    .dataframe tbody tr th {\n",
       "        vertical-align: top;\n",
       "    }\n",
       "\n",
       "    .dataframe thead th {\n",
       "        text-align: right;\n",
       "    }\n",
       "</style>\n",
       "<table border=\"1\" class=\"dataframe\">\n",
       "  <thead>\n",
       "    <tr style=\"text-align: right;\">\n",
       "      <th></th>\n",
       "      <th>geometry</th>\n",
       "    </tr>\n",
       "  </thead>\n",
       "  <tbody>\n",
       "    <tr>\n",
       "      <th>0</th>\n",
       "      <td>POLYGON Z ((1.00869 0.92852 1.00000, 0.97744 0...</td>\n",
       "    </tr>\n",
       "    <tr>\n",
       "      <th>1</th>\n",
       "      <td>POLYGON Z ((1.00869 0.92852 1.00000, 1.01735 0...</td>\n",
       "    </tr>\n",
       "    <tr>\n",
       "      <th>2</th>\n",
       "      <td>POLYGON Z ((0.97744 0.92853 1.00000, 0.94619 0...</td>\n",
       "    </tr>\n",
       "    <tr>\n",
       "      <th>3</th>\n",
       "      <td>POLYGON Z ((0.97744 0.92853 1.00000, 0.98610 0...</td>\n",
       "    </tr>\n",
       "    <tr>\n",
       "      <th>4</th>\n",
       "      <td>POLYGON Z ((0.94619 0.92853 1.00000, 0.91494 0...</td>\n",
       "    </tr>\n",
       "  </tbody>\n",
       "</table>\n",
       "</div>"
      ],
      "text/plain": [
       "                                            geometry\n",
       "0  POLYGON Z ((1.00869 0.92852 1.00000, 0.97744 0...\n",
       "1  POLYGON Z ((1.00869 0.92852 1.00000, 1.01735 0...\n",
       "2  POLYGON Z ((0.97744 0.92853 1.00000, 0.94619 0...\n",
       "3  POLYGON Z ((0.97744 0.92853 1.00000, 0.98610 0...\n",
       "4  POLYGON Z ((0.94619 0.92853 1.00000, 0.91494 0..."
      ]
     },
     "execution_count": 5,
     "metadata": {},
     "output_type": "execute_result"
    }
   ],
   "source": [
    "import geopandas as gpd\n",
    "\n",
    "gdf = gpd.read_file(file_path + 'Channel.dxf')\n",
    "gdf.drop(['Layer', 'PaperSpace','SubClasses','Linetype', 'EntityHandle', 'Text'], axis=1).head()"
   ]
  },
  {
   "cell_type": "markdown",
   "metadata": {},
   "source": [
    "### Inspecting the Geometries\n",
    "\n",
    "Each geometry object is a polygon consisting of three unique vertices."
   ]
  },
  {
   "cell_type": "code",
   "execution_count": 6,
   "metadata": {
    "ExecuteTime": {
     "end_time": "2021-03-14T12:55:30.626041Z",
     "start_time": "2021-03-14T12:55:30.612059Z"
    }
   },
   "outputs": [
    {
     "data": {
      "image/svg+xml": [
       "<svg xmlns=\"http://www.w3.org/2000/svg\" xmlns:xlink=\"http://www.w3.org/1999/xlink\" width=\"100.0\" height=\"100.0\" viewBox=\"0.9745786690711975 0.8541966581344604 0.04563071250915529 0.07718833208084108\" preserveAspectRatio=\"xMinYMin meet\"><g transform=\"matrix(1,0,0,-1,0,1.785581648349762)\"><path fill-rule=\"evenodd\" fill=\"#66cc99\" stroke=\"#555555\" stroke-width=\"0.0015437666416168215\" opacity=\"0.6\" d=\"M 1.0086873769760132,0.9285249710083008 L 0.9774374961853027,0.9285261631011963 L 1.0173505544662476,0.8570554852485657 L 1.0086873769760132,0.9285249710083008 z\" /></g></svg>"
      ],
      "text/plain": [
       "<POLYGON Z ((1.009 0.929 1, 0.977 0.929 1, 1.017 0.857 1, 1.009 0.929 1))>"
      ]
     },
     "execution_count": 6,
     "metadata": {},
     "output_type": "execute_result"
    }
   ],
   "source": [
    "gdf.loc[0].geometry"
   ]
  },
  {
   "cell_type": "code",
   "execution_count": 7,
   "metadata": {
    "ExecuteTime": {
     "end_time": "2021-03-14T12:55:30.642045Z",
     "start_time": "2021-03-14T12:55:30.629045Z"
    }
   },
   "outputs": [
    {
     "data": {
      "text/plain": [
       "shapely.geometry.polygon.Polygon"
      ]
     },
     "execution_count": 7,
     "metadata": {},
     "output_type": "execute_result"
    }
   ],
   "source": [
    "type(gdf.loc[0].geometry)"
   ]
  },
  {
   "cell_type": "code",
   "execution_count": 8,
   "metadata": {
    "ExecuteTime": {
     "end_time": "2021-03-14T12:55:30.657048Z",
     "start_time": "2021-03-14T12:55:30.644046Z"
    }
   },
   "outputs": [
    {
     "data": {
      "text/plain": [
       "'POLYGON Z ((1.0086873769760132 0.9285249710083008 1, 0.9774374961853027 0.9285261631011963 1, 1.0173505544662476 0.8570554852485657 1.0000001192092896, 1.0086873769760132 0.9285249710083008 1))'"
      ]
     },
     "execution_count": 8,
     "metadata": {},
     "output_type": "execute_result"
    }
   ],
   "source": [
    "gdf.loc[0].geometry.wkt"
   ]
  },
  {
   "cell_type": "markdown",
   "metadata": {},
   "source": [
    "### Extracting XYZ Coordinates of Polygons\n",
    "\n",
    "The coordinates for each vertex of each Polygon can be extracted using the regular ``extract_xy(..)`` function again. The function was adapted to also work with geometries containing a Z component. "
   ]
  },
  {
   "cell_type": "code",
   "execution_count": 9,
   "metadata": {
    "ExecuteTime": {
     "end_time": "2021-03-14T12:55:51.171319Z",
     "start_time": "2021-03-14T12:55:30.659051Z"
    }
   },
   "outputs": [
    {
     "data": {
      "text/html": [
       "<div>\n",
       "<style scoped>\n",
       "    .dataframe tbody tr th:only-of-type {\n",
       "        vertical-align: middle;\n",
       "    }\n",
       "\n",
       "    .dataframe tbody tr th {\n",
       "        vertical-align: top;\n",
       "    }\n",
       "\n",
       "    .dataframe thead th {\n",
       "        text-align: right;\n",
       "    }\n",
       "</style>\n",
       "<table border=\"1\" class=\"dataframe\">\n",
       "  <thead>\n",
       "    <tr style=\"text-align: right;\">\n",
       "      <th></th>\n",
       "      <th>Layer</th>\n",
       "      <th>PaperSpace</th>\n",
       "      <th>SubClasses</th>\n",
       "      <th>Linetype</th>\n",
       "      <th>EntityHandle</th>\n",
       "      <th>Text</th>\n",
       "      <th>geometry</th>\n",
       "      <th>X</th>\n",
       "      <th>Y</th>\n",
       "      <th>Z</th>\n",
       "    </tr>\n",
       "  </thead>\n",
       "  <tbody>\n",
       "    <tr>\n",
       "      <th>0</th>\n",
       "      <td>0</td>\n",
       "      <td>None</td>\n",
       "      <td>None</td>\n",
       "      <td>None</td>\n",
       "      <td>None</td>\n",
       "      <td>None</td>\n",
       "      <td>POINT (1.00869 0.92852)</td>\n",
       "      <td>1.01</td>\n",
       "      <td>0.93</td>\n",
       "      <td>1.00</td>\n",
       "    </tr>\n",
       "    <tr>\n",
       "      <th>1</th>\n",
       "      <td>0</td>\n",
       "      <td>None</td>\n",
       "      <td>None</td>\n",
       "      <td>None</td>\n",
       "      <td>None</td>\n",
       "      <td>None</td>\n",
       "      <td>POINT (0.97744 0.92853)</td>\n",
       "      <td>0.98</td>\n",
       "      <td>0.93</td>\n",
       "      <td>1.00</td>\n",
       "    </tr>\n",
       "    <tr>\n",
       "      <th>2</th>\n",
       "      <td>0</td>\n",
       "      <td>None</td>\n",
       "      <td>None</td>\n",
       "      <td>None</td>\n",
       "      <td>None</td>\n",
       "      <td>None</td>\n",
       "      <td>POINT (1.01735 0.85706)</td>\n",
       "      <td>1.02</td>\n",
       "      <td>0.86</td>\n",
       "      <td>1.00</td>\n",
       "    </tr>\n",
       "    <tr>\n",
       "      <th>3</th>\n",
       "      <td>0</td>\n",
       "      <td>None</td>\n",
       "      <td>None</td>\n",
       "      <td>None</td>\n",
       "      <td>None</td>\n",
       "      <td>None</td>\n",
       "      <td>POINT (1.00869 0.92852)</td>\n",
       "      <td>1.01</td>\n",
       "      <td>0.93</td>\n",
       "      <td>1.00</td>\n",
       "    </tr>\n",
       "    <tr>\n",
       "      <th>4</th>\n",
       "      <td>0</td>\n",
       "      <td>None</td>\n",
       "      <td>None</td>\n",
       "      <td>None</td>\n",
       "      <td>None</td>\n",
       "      <td>None</td>\n",
       "      <td>POINT (1.00869 0.92852)</td>\n",
       "      <td>1.01</td>\n",
       "      <td>0.93</td>\n",
       "      <td>1.00</td>\n",
       "    </tr>\n",
       "  </tbody>\n",
       "</table>\n",
       "</div>"
      ],
      "text/plain": [
       "  Layer PaperSpace SubClasses Linetype EntityHandle  Text  \\\n",
       "0     0       None       None     None         None  None   \n",
       "1     0       None       None     None         None  None   \n",
       "2     0       None       None     None         None  None   \n",
       "3     0       None       None     None         None  None   \n",
       "4     0       None       None     None         None  None   \n",
       "\n",
       "                  geometry    X    Y    Z  \n",
       "0  POINT (1.00869 0.92852) 1.01 0.93 1.00  \n",
       "1  POINT (0.97744 0.92853) 0.98 0.93 1.00  \n",
       "2  POINT (1.01735 0.85706) 1.02 0.86 1.00  \n",
       "3  POINT (1.00869 0.92852) 1.01 0.93 1.00  \n",
       "4  POINT (1.00869 0.92852) 1.01 0.93 1.00  "
      ]
     },
     "execution_count": 9,
     "metadata": {},
     "output_type": "execute_result"
    }
   ],
   "source": [
    "gdf_lines = gg.vector.extract_xy(gdf)\n",
    "gdf_lines.head()"
   ]
  },
  {
   "cell_type": "markdown",
   "metadata": {},
   "source": [
    "### Showing vertices\n",
    "\n",
    "The vertices to create a mesh are equal to the X, Y and Z values of the GeoDataFrame as NumPy array."
   ]
  },
  {
   "cell_type": "code",
   "execution_count": 10,
   "metadata": {
    "ExecuteTime": {
     "end_time": "2021-03-14T12:55:51.186115Z",
     "start_time": "2021-03-14T12:55:51.173301Z"
    }
   },
   "outputs": [
    {
     "data": {
      "text/plain": [
       "array([[ 1.00868738,  0.92852497,  1.        ],\n",
       "       [ 0.9774375 ,  0.92852616,  1.        ],\n",
       "       [ 1.01735055,  0.85705549,  1.00000012],\n",
       "       ...,\n",
       "       [ 0.24864995, -7.21182299, -0.65079874],\n",
       "       [ 0.23326781, -7.21196413, -0.66666669],\n",
       "       [ 0.25142166, -7.16530943, -0.66666669]])"
      ]
     },
     "execution_count": 10,
     "metadata": {},
     "output_type": "execute_result"
    }
   ],
   "source": [
    "vertices = gdf_lines[['X', 'Y', 'Z']].values\n",
    "vertices"
   ]
  },
  {
   "cell_type": "markdown",
   "metadata": {},
   "source": [
    "### Showing Faces\n",
    "\n",
    "The faces for the mesh are equal to the indices of the single points within the GeoDataFrame in the needed VTK format."
   ]
  },
  {
   "cell_type": "code",
   "execution_count": 11,
   "metadata": {
    "ExecuteTime": {
     "end_time": "2021-03-14T12:55:51.233976Z",
     "start_time": "2021-03-14T12:55:51.188096Z"
    }
   },
   "outputs": [
    {
     "data": {
      "text/plain": [
       "array([[     4,      0,      1,      2,      3],\n",
       "       [     4,      4,      5,      6,      7],\n",
       "       [     4,      8,      9,     10,     11],\n",
       "       ...,\n",
       "       [     4, 393204, 393205, 393206, 393207],\n",
       "       [     4, 393208, 393209, 393210, 393211],\n",
       "       [     4, 393212, 393213, 393214, 393215]])"
      ]
     },
     "execution_count": 11,
     "metadata": {},
     "output_type": "execute_result"
    }
   ],
   "source": [
    "import numpy as np\n",
    "faces = np.pad(np.arange(0,len(gdf_lines[['X', 'Y', 'Z']].values)).reshape(int(len(gdf_lines[['X', 'Y', 'Z']].values)/4), 4), ((0, 0), (1, 0)), 'constant', constant_values=4)\n",
    "faces"
   ]
  },
  {
   "cell_type": "markdown",
   "metadata": {},
   "source": [
    "### Creating PolyData\n",
    "\n",
    "A PyVista PolyData dataset can easily be created with the vertices and faces."
   ]
  },
  {
   "cell_type": "code",
   "execution_count": 12,
   "metadata": {
    "ExecuteTime": {
     "end_time": "2021-03-14T12:55:51.249970Z",
     "start_time": "2021-03-14T12:55:51.235971Z"
    }
   },
   "outputs": [
    {
     "data": {
      "text/html": [
       "\n",
       "<table>\n",
       "<tr><th>PolyData</th><th>Information</th></tr>\n",
       "<tr><td>N Cells</td><td>98304</td></tr>\n",
       "<tr><td>N Points</td><td>393216</td></tr>\n",
       "<tr><td>N Strips</td><td>0</td></tr>\n",
       "<tr><td>X Bounds</td><td>-1.576e+00, 2.530e+00</td></tr>\n",
       "<tr><td>Y Bounds</td><td>-9.751e+00, 1.000e+00</td></tr>\n",
       "<tr><td>Z Bounds</td><td>-9.167e-01, 1.000e+00</td></tr>\n",
       "<tr><td>N Arrays</td><td>0</td></tr>\n",
       "</table>\n",
       "\n"
      ],
      "text/plain": [
       "PolyData (0x23de4ecb0a0)\n",
       "  N Cells:\t98304\n",
       "  N Points:\t393216\n",
       "  N Strips:\t0\n",
       "  X Bounds:\t-1.576e+00, 2.530e+00\n",
       "  Y Bounds:\t-9.751e+00, 1.000e+00\n",
       "  Z Bounds:\t-9.167e-01, 1.000e+00\n",
       "  N Arrays:\t0"
      ]
     },
     "execution_count": 12,
     "metadata": {},
     "output_type": "execute_result"
    }
   ],
   "source": [
    "poly = pv.PolyData(vertices, faces)\n",
    "poly"
   ]
  },
  {
   "cell_type": "markdown",
   "metadata": {},
   "source": [
    "### Plotting the mesh\n",
    "\n",
    "As usual, the mesh can be plotted using PyVista."
   ]
  },
  {
   "cell_type": "code",
   "execution_count": 13,
   "metadata": {
    "ExecuteTime": {
     "end_time": "2021-03-14T12:55:51.546831Z",
     "start_time": "2021-03-14T12:55:51.251978Z"
    }
   },
   "outputs": [
    {
     "name": "stderr",
     "output_type": "stream",
     "text": [
      "C:\\Users\\ale93371\\Anaconda3\\envs\\gemgis\\lib\\site-packages\\pyvista\\jupyter\\notebook.py:60: UserWarning: Failed to use notebook backend: \n",
      "\n",
      "Please install `ipyvtklink` to use this feature: https://github.com/Kitware/ipyvtklink\n",
      "\n",
      "Falling back to a static output.\n",
      "  warnings.warn(\n"
     ]
    },
    {
     "data": {
      "image/png": "[encoded data removed]",
      "text/plain": [
       "<PIL.Image.Image image mode=RGB size=1024x768>"
      ]
     },
     "metadata": {},
     "output_type": "display_data"
    }
   ],
   "source": [
    "sargs = dict(fmt=\"%.0f\", color='black')\n",
    "\n",
    "p = pv.Plotter(notebook=True)\n",
    "\n",
    "p.add_mesh(poly,scalar_bar_args=sargs)\n",
    "\n",
    "p.set_background('white')\n",
    "p.show_grid(color='black')\n",
    "p.show()"
   ]
  },
  {
   "cell_type": "markdown",
   "metadata": {},
   "source": [
    "## Using the built-in GemGIS Function\n",
    "\n",
    "The PolyData dataset can also be created using the built-in GemGIS function ``create_polydata_from_dxf(...)``."
   ]
  },
  {
   "cell_type": "code",
   "execution_count": 14,
   "metadata": {
    "ExecuteTime": {
     "end_time": "2021-03-14T12:55:52.743723Z",
     "start_time": "2021-03-14T12:55:51.547827Z"
    }
   },
   "outputs": [],
   "source": [
    "poly = gg.visualization.create_polydata_from_dxf(gdf=gdf)"
   ]
  },
  {
   "cell_type": "code",
   "execution_count": 15,
   "metadata": {
    "ExecuteTime": {
     "end_time": "2021-03-14T12:55:52.745723Z",
     "start_time": "2021-03-14T12:55:22.735Z"
    }
   },
   "outputs": [
    {
     "name": "stderr",
     "output_type": "stream",
     "text": [
      "C:\\Users\\ale93371\\Anaconda3\\envs\\gemgis\\lib\\site-packages\\pyvista\\jupyter\\notebook.py:60: UserWarning: Failed to use notebook backend: \n",
      "\n",
      "Please install `ipyvtklink` to use this feature: https://github.com/Kitware/ipyvtklink\n",
      "\n",
      "Falling back to a static output.\n",
      "  warnings.warn(\n"
     ]
    },
    {
     "data": {
      "image/png": "[encoded data removed]",
      "text/plain": [
       "<PIL.Image.Image image mode=RGB size=1024x768>"
      ]
     },
     "metadata": {},
     "output_type": "display_data"
    }
   ],
   "source": [
    "sargs = dict(fmt=\"%.0f\", color='black')\n",
    "\n",
    "p = pv.Plotter(notebook=True)\n",
    "\n",
    "p.add_mesh(poly,scalar_bar_args=sargs)\n",
    "\n",
    "p.set_background('white')\n",
    "p.show_grid(color='black')\n",
    "p.show()"
   ]
  }
 ],
 "metadata": {
  "hide_input": false,
  "kernelspec": {
   "display_name": "Python 3 (ipykernel)",
   "language": "python",
   "name": "python3"
  },
  "language_info": {
   "codemirror_mode": {
    "name": "ipython",
    "version": 3
   },
   "file_extension": ".py",
   "mimetype": "text/x-python",
   "name": "python",
   "nbconvert_exporter": "python",
   "pygments_lexer": "ipython3",
   "version": "3.10.8"
  },
  "varInspector": {
   "cols": {
    "lenName": 16,
    "lenType": 16,
    "lenVar": 40
   },
   "kernels_config": {
    "python": {
     "delete_cmd_postfix": "",
     "delete_cmd_prefix": "del ",
     "library": "var_list.py",
     "varRefreshCmd": "print(var_dic_list())"
    },
    "r": {
     "delete_cmd_postfix": ") ",
     "delete_cmd_prefix": "rm(",
     "library": "var_list.r",
     "varRefreshCmd": "cat(var_dic_list()) "
    }
   },
   "types_to_exclude": [
    "module",
    "function",
    "builtin_function_or_method",
    "instance",
    "_Feature"
   ],
   "window_display": false
  }
 },
 "nbformat": 4,
 "nbformat_minor": 4
}
