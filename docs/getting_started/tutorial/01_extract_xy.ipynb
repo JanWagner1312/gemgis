{
 "cells": [
  {
   "cell_type": "markdown",
   "metadata": {},
   "source": [
    "# 01 Extract XY Coordinates\n",
    "\n",
    "Vector data is commonly provided as ``shape`` files. These files can be loaded with ``GeoPandas`` as ``GeoDataFrames``. Each geometry object is stored as ``shapely`` object within the ``GeoSeries`` ``geometry`` of the ``GeoDataFrames``. The basic ``shapely`` objects, also called Base Geometries, used here are:\n",
    "\n",
    "* Points/Multi-Points\n",
    "* Lines/Multi-Lines\n",
    "* Polygons/Multi-Polygons\n",
    "* Geometry Collections\n",
    "\n",
    "The first step is to load the data using ``GeoPandas``. We can inspect the different columns of the GeoDataFrame by looking at its head. In the following examples for point, line and polygon data, we have an ``id`` column which was created during the digitalizing of the data in QGIS, a formation column containing the name of a geological unit (this becomes important later for the actual modeling) and most importantly the geometry column consisting of the ``shapely`` geometry objects. The X and Y coordinates of the different geometry objects can then be extracted using ``extract_xy()`` of the GemGIS vector module.\n",
    "\n",
    "<img src=\"../images/tutorial01_cover.png\">\n"
   ]
  },
  {
   "cell_type": "markdown",
   "metadata": {},
   "source": [
    "## Set File Paths and download Tutorial Data\n",
    "\n",
    "If you downloaded the latest `GemGIS` version from the Github repository, append the path so that the package can be imported successfully. Otherwise, it is recommended to install `GemGIS` via `pip install gemgis` and import `GemGIS` using `import gemgis as gg`. In addition, the file path to the folder where the data is being stored is set. The tutorial data is downloaded using Pooch (https://www.fatiando.org/pooch/latest/index.html) and stored in the specified folder. Use `pip install pooch` if Pooch is not installed on your system yet."
   ]
  },
  {
   "cell_type": "code",
   "execution_count": 1,
   "metadata": {
    "ExecuteTime": {
     "end_time": "2021-03-17T10:51:49.074789Z",
     "start_time": "2021-03-17T10:51:46.959613Z"
    }
   },
   "outputs": [],
   "source": [
    "import gemgis as gg\n",
    "\n",
    "file_path ='data/01_extract_xy/'"
   ]
  },
  {
   "cell_type": "code",
   "execution_count": 2,
   "metadata": {
    "ExecuteTime": {
     "end_time": "2021-03-17T10:51:49.692087Z",
     "start_time": "2021-03-17T10:51:49.659546Z"
    }
   },
   "outputs": [
    {
     "name": "stderr",
     "output_type": "stream",
     "text": [
      "Downloading file '01_extract_xy.zip' from 'https://rwth-aachen.sciebo.de/s/AfXRsZywYDbUF34/download?path=%2F01_extract_xy.zip' to 'C:\\Users\\ale93371\\Documents\\gemgis\\docs\\getting_started\\tutorial\\data\\01_extract_xy'.\n"
     ]
    }
   ],
   "source": [
    "gg.download_gemgis_data.download_tutorial_data(filename=\"01_extract_xy.zip\", dirpath=file_path)"
   ]
  },
  {
   "cell_type": "markdown",
   "metadata": {},
   "source": [
    "## Point Data\n",
    "\n",
    "The point data stored as shape file will be loaded as GeoDataFrame. It contains an ``id``, ``formation`` and the ``geometry`` column."
   ]
  },
  {
   "cell_type": "code",
   "execution_count": 3,
   "metadata": {
    "ExecuteTime": {
     "end_time": "2021-01-25T20:47:10.434417Z",
     "start_time": "2021-01-25T20:47:05.439082Z"
    }
   },
   "outputs": [
    {
     "data": {
      "text/html": [
       "<div>\n",
       "<style scoped>\n",
       "    .dataframe tbody tr th:only-of-type {\n",
       "        vertical-align: middle;\n",
       "    }\n",
       "\n",
       "    .dataframe tbody tr th {\n",
       "        vertical-align: top;\n",
       "    }\n",
       "\n",
       "    .dataframe thead th {\n",
       "        text-align: right;\n",
       "    }\n",
       "</style>\n",
       "<table border=\"1\" class=\"dataframe\">\n",
       "  <thead>\n",
       "    <tr style=\"text-align: right;\">\n",
       "      <th></th>\n",
       "      <th>id</th>\n",
       "      <th>formation</th>\n",
       "      <th>geometry</th>\n",
       "    </tr>\n",
       "  </thead>\n",
       "  <tbody>\n",
       "    <tr>\n",
       "      <th>0</th>\n",
       "      <td>None</td>\n",
       "      <td>Ton</td>\n",
       "      <td>POINT (19.15013 293.31349)</td>\n",
       "    </tr>\n",
       "    <tr>\n",
       "      <th>1</th>\n",
       "      <td>None</td>\n",
       "      <td>Ton</td>\n",
       "      <td>POINT (61.93437 381.45933)</td>\n",
       "    </tr>\n",
       "    <tr>\n",
       "      <th>2</th>\n",
       "      <td>None</td>\n",
       "      <td>Ton</td>\n",
       "      <td>POINT (109.35786 480.94557)</td>\n",
       "    </tr>\n",
       "    <tr>\n",
       "      <th>3</th>\n",
       "      <td>None</td>\n",
       "      <td>Ton</td>\n",
       "      <td>POINT (157.81230 615.99943)</td>\n",
       "    </tr>\n",
       "    <tr>\n",
       "      <th>4</th>\n",
       "      <td>None</td>\n",
       "      <td>Ton</td>\n",
       "      <td>POINT (191.31803 719.09398)</td>\n",
       "    </tr>\n",
       "  </tbody>\n",
       "</table>\n",
       "</div>"
      ],
      "text/plain": [
       "     id formation                     geometry\n",
       "0  None       Ton   POINT (19.15013 293.31349)\n",
       "1  None       Ton   POINT (61.93437 381.45933)\n",
       "2  None       Ton  POINT (109.35786 480.94557)\n",
       "3  None       Ton  POINT (157.81230 615.99943)\n",
       "4  None       Ton  POINT (191.31803 719.09398)"
      ]
     },
     "execution_count": 3,
     "metadata": {},
     "output_type": "execute_result"
    }
   ],
   "source": [
    "import geopandas as gpd\n",
    "\n",
    "gdf = gpd.read_file(file_path + 'interfaces_points.shp')\n",
    "\n",
    "gdf.head()"
   ]
  },
  {
   "cell_type": "markdown",
   "metadata": {},
   "source": [
    "### Inspecting the geometry column\n",
    "\n",
    "The elements of the geometry columns can be accessed by indexing the GeoDataFrame. It can be seen that the objects in the ``geometry`` column are Shapely objects."
   ]
  },
  {
   "cell_type": "code",
   "execution_count": 4,
   "metadata": {
    "ExecuteTime": {
     "end_time": "2020-12-29T14:35:57.759564Z",
     "start_time": "2020-12-29T14:35:57.747115Z"
    }
   },
   "outputs": [
    {
     "data": {
      "image/svg+xml": [
       "<svg xmlns=\"http://www.w3.org/2000/svg\" xmlns:xlink=\"http://www.w3.org/1999/xlink\" width=\"100.0\" height=\"100.0\" viewBox=\"18.150128045807676 292.313485355882 2.0 2.0\" preserveAspectRatio=\"xMinYMin meet\"><g transform=\"matrix(1,0,0,-1,0,586.626970711764)\"><circle cx=\"19.150128045807676\" cy=\"293.313485355882\" r=\"0.06\" stroke=\"#555555\" stroke-width=\"0.02\" fill=\"#66cc99\" opacity=\"0.6\" /></g></svg>"
      ],
      "text/plain": [
       "<POINT (19.15 293.313)>"
      ]
     },
     "execution_count": 4,
     "metadata": {},
     "output_type": "execute_result"
    }
   ],
   "source": [
    "gdf.loc[0].geometry"
   ]
  },
  {
   "cell_type": "code",
   "execution_count": 5,
   "metadata": {
    "ExecuteTime": {
     "end_time": "2020-12-29T14:35:57.775083Z",
     "start_time": "2020-12-29T14:35:57.761095Z"
    }
   },
   "outputs": [
    {
     "data": {
      "text/plain": [
       "'POINT (19.150128045807676 293.313485355882)'"
      ]
     },
     "execution_count": 5,
     "metadata": {},
     "output_type": "execute_result"
    }
   ],
   "source": [
    "gdf.loc[0].geometry.wkt"
   ]
  },
  {
   "cell_type": "code",
   "execution_count": 6,
   "metadata": {
    "ExecuteTime": {
     "end_time": "2020-12-29T14:35:57.791086Z",
     "start_time": "2020-12-29T14:35:57.777084Z"
    }
   },
   "outputs": [
    {
     "data": {
      "text/plain": [
       "shapely.geometry.point.Point"
      ]
     },
     "execution_count": 6,
     "metadata": {},
     "output_type": "execute_result"
    }
   ],
   "source": [
    "type(gdf.loc[0].geometry)"
   ]
  },
  {
   "cell_type": "markdown",
   "metadata": {},
   "source": [
    "### Extracting the Coordinates\n",
    "\n",
    "The resulting GeoDataFrame has now an additional ``X`` and ``Y`` column containing the coordinates of the point objects. These can now be easily used for further processing. The geometry types of the shapely objects remained unchanged. The ``id`` column was dropped by default.\n"
   ]
  },
  {
   "cell_type": "code",
   "execution_count": 7,
   "metadata": {
    "ExecuteTime": {
     "end_time": "2020-12-29T14:35:57.823095Z",
     "start_time": "2020-12-29T14:35:57.795087Z"
    }
   },
   "outputs": [
    {
     "data": {
      "text/html": [
       "<div>\n",
       "<style scoped>\n",
       "    .dataframe tbody tr th:only-of-type {\n",
       "        vertical-align: middle;\n",
       "    }\n",
       "\n",
       "    .dataframe tbody tr th {\n",
       "        vertical-align: top;\n",
       "    }\n",
       "\n",
       "    .dataframe thead th {\n",
       "        text-align: right;\n",
       "    }\n",
       "</style>\n",
       "<table border=\"1\" class=\"dataframe\">\n",
       "  <thead>\n",
       "    <tr style=\"text-align: right;\">\n",
       "      <th></th>\n",
       "      <th>formation</th>\n",
       "      <th>geometry</th>\n",
       "      <th>X</th>\n",
       "      <th>Y</th>\n",
       "    </tr>\n",
       "  </thead>\n",
       "  <tbody>\n",
       "    <tr>\n",
       "      <th>0</th>\n",
       "      <td>Ton</td>\n",
       "      <td>POINT (19.15013 293.31349)</td>\n",
       "      <td>19.15</td>\n",
       "      <td>293.31</td>\n",
       "    </tr>\n",
       "    <tr>\n",
       "      <th>1</th>\n",
       "      <td>Ton</td>\n",
       "      <td>POINT (61.93437 381.45933)</td>\n",
       "      <td>61.93</td>\n",
       "      <td>381.46</td>\n",
       "    </tr>\n",
       "    <tr>\n",
       "      <th>2</th>\n",
       "      <td>Ton</td>\n",
       "      <td>POINT (109.35786 480.94557)</td>\n",
       "      <td>109.36</td>\n",
       "      <td>480.95</td>\n",
       "    </tr>\n",
       "    <tr>\n",
       "      <th>3</th>\n",
       "      <td>Ton</td>\n",
       "      <td>POINT (157.81230 615.99943)</td>\n",
       "      <td>157.81</td>\n",
       "      <td>616.00</td>\n",
       "    </tr>\n",
       "    <tr>\n",
       "      <th>4</th>\n",
       "      <td>Ton</td>\n",
       "      <td>POINT (191.31803 719.09398)</td>\n",
       "      <td>191.32</td>\n",
       "      <td>719.09</td>\n",
       "    </tr>\n",
       "  </tbody>\n",
       "</table>\n",
       "</div>"
      ],
      "text/plain": [
       "  formation                     geometry      X      Y\n",
       "0       Ton   POINT (19.15013 293.31349)  19.15 293.31\n",
       "1       Ton   POINT (61.93437 381.45933)  61.93 381.46\n",
       "2       Ton  POINT (109.35786 480.94557) 109.36 480.95\n",
       "3       Ton  POINT (157.81230 615.99943) 157.81 616.00\n",
       "4       Ton  POINT (191.31803 719.09398) 191.32 719.09"
      ]
     },
     "execution_count": 7,
     "metadata": {},
     "output_type": "execute_result"
    }
   ],
   "source": [
    "gdf_xy = gg.vector.extract_xy(gdf=gdf)\n",
    "\n",
    "gdf_xy.head()"
   ]
  },
  {
   "cell_type": "markdown",
   "metadata": {},
   "source": [
    "### Plotting the Data\n",
    "\n",
    "The figures below show the original point data and the extracted X and Y data using ``matplotlib``."
   ]
  },
  {
   "cell_type": "code",
   "execution_count": 8,
   "metadata": {
    "ExecuteTime": {
     "end_time": "2020-12-29T14:35:58.110366Z",
     "start_time": "2020-12-29T14:35:57.826094Z"
    }
   },
   "outputs": [
    {
     "data": {
      "image/png": "[encoded data removed]",
      "text/plain": [
       "<Figure size 640x480 with 2 Axes>"
      ]
     },
     "metadata": {},
     "output_type": "display_data"
    }
   ],
   "source": [
    "import matplotlib.pyplot as plt\n",
    "\n",
    "fig, (ax1,ax2) = plt.subplots(1,2)\n",
    "\n",
    "gdf.plot(ax=ax1, aspect='equal')\n",
    "ax1.grid()\n",
    "\n",
    "gdf_xy.plot(ax=ax2, aspect='equal')\n",
    "ax2.grid()"
   ]
  },
  {
   "cell_type": "markdown",
   "metadata": {},
   "source": [
    "## Line Data\n",
    "\n",
    "The line data stored as shape file will be loaded as GeoDataFrame. It consists of the same columns as the shape file containing points. "
   ]
  },
  {
   "cell_type": "code",
   "execution_count": 9,
   "metadata": {
    "ExecuteTime": {
     "end_time": "2020-12-29T14:35:58.157640Z",
     "start_time": "2020-12-29T14:35:58.113362Z"
    }
   },
   "outputs": [
    {
     "data": {
      "text/html": [
       "<div>\n",
       "<style scoped>\n",
       "    .dataframe tbody tr th:only-of-type {\n",
       "        vertical-align: middle;\n",
       "    }\n",
       "\n",
       "    .dataframe tbody tr th {\n",
       "        vertical-align: top;\n",
       "    }\n",
       "\n",
       "    .dataframe thead th {\n",
       "        text-align: right;\n",
       "    }\n",
       "</style>\n",
       "<table border=\"1\" class=\"dataframe\">\n",
       "  <thead>\n",
       "    <tr style=\"text-align: right;\">\n",
       "      <th></th>\n",
       "      <th>id</th>\n",
       "      <th>formation</th>\n",
       "      <th>geometry</th>\n",
       "    </tr>\n",
       "  </thead>\n",
       "  <tbody>\n",
       "    <tr>\n",
       "      <th>0</th>\n",
       "      <td>None</td>\n",
       "      <td>Sand1</td>\n",
       "      <td>LINESTRING (0.25633 264.86215, 10.59347 276.73...</td>\n",
       "    </tr>\n",
       "    <tr>\n",
       "      <th>1</th>\n",
       "      <td>None</td>\n",
       "      <td>Ton</td>\n",
       "      <td>LINESTRING (0.18819 495.78721, 8.84067 504.141...</td>\n",
       "    </tr>\n",
       "    <tr>\n",
       "      <th>2</th>\n",
       "      <td>None</td>\n",
       "      <td>Ton</td>\n",
       "      <td>LINESTRING (970.67663 833.05262, 959.37243 800...</td>\n",
       "    </tr>\n",
       "  </tbody>\n",
       "</table>\n",
       "</div>"
      ],
      "text/plain": [
       "     id formation                                           geometry\n",
       "0  None     Sand1  LINESTRING (0.25633 264.86215, 10.59347 276.73...\n",
       "1  None       Ton  LINESTRING (0.18819 495.78721, 8.84067 504.141...\n",
       "2  None       Ton  LINESTRING (970.67663 833.05262, 959.37243 800..."
      ]
     },
     "execution_count": 9,
     "metadata": {},
     "output_type": "execute_result"
    }
   ],
   "source": [
    "import geopandas as gpd\n",
    "import gemgis as gg\n",
    "\n",
    "gdf = gpd.read_file(file_path + 'interfaces_lines.shp')\n",
    "\n",
    "gdf.head()"
   ]
  },
  {
   "cell_type": "markdown",
   "metadata": {},
   "source": [
    "### Inspecting the geometry column\n",
    "\n",
    "The elements of the geometry columns can be accessed by indexing the GeoDataFrame. It can be seen that the objects in the ``geometry`` column are Shapely objects."
   ]
  },
  {
   "cell_type": "code",
   "execution_count": 10,
   "metadata": {
    "ExecuteTime": {
     "end_time": "2020-12-29T14:35:58.173654Z",
     "start_time": "2020-12-29T14:35:58.159643Z"
    }
   },
   "outputs": [
    {
     "data": {
      "image/svg+xml": [
       "<svg xmlns=\"http://www.w3.org/2000/svg\" xmlns:xlink=\"http://www.w3.org/1999/xlink\" width=\"300\" height=\"300\" viewBox=\"-38.555224795605895 126.14921750500065 1047.9119037579974 869.9514073432517\" preserveAspectRatio=\"xMinYMin meet\"><g transform=\"matrix(1,0,0,-1,0,1122.249842353253)\"><polyline fill=\"none\" stroke=\"#66cc99\" stroke-width=\"6.986079358386649\" points=\"0.256327195431048,264.86214748436396 10.59346813871597,276.73370778641777 17.134940141888464,289.089821570188 19.150128045807676,293.313485355882 27.79511673965105,310.571692592952 34.41734765644295,324.13919008101345 40.7165429187572,338.5142767052691 49.27698776241503,352.56632767504703 55.33390628387104,364.1148523226231 60.98703023722999,376.30944827915454 61.93436666575576,381.4593263680641 74.31225098443318,404.8981037004269 89.49492674488292,440.43202569296886 100.8011746516008,465.62880674222583 109.35786007581868,480.9455679783049 122.12152784712598,511.49986967805273 134.7199183717545,543.1573638168628 146.02616627847237,575.1378936101505 154.748128949369,602.2728885862734 157.81229899479604,615.9994296460927 170.2538403642964,655.5737715750863 179.944909998626,686.9082300594188 191.31802803451436,719.0939805375339 200.61919188519585,750.2232183370392 210.95633282848075,774.7739280773408 224.82375707423273,798.4767847239435 240.67561304042493,822.9062405945112 255.21221749191938,846.1648077169024 264.903287126249,861.9935547863074 272.76272323875287,874.2512796291529 291.3922107934166,899.788726360193 308.8361361352099,915.9405090840756 323.27905317555906,927.3449733382452 341.462737237453,937.9069335885562 355.03023472551445,947.2749675684081 366.0632917955071,952.6031383066481 384.7495149374586,957.2890728572154 394.44058457178824,955.9969302393048 407.8165849065408,950.0257745343622 423.1907578202995,941.4603257878103 441.2807544710481,929.1849709176595 456.27102382551817,917.5509910035582 474.5534268822465,900.757833323626 490.05913829717383,879.4374801281008 503.94967143971303,861.3474834773522 515.0349178336396,847.9621691518354 530.7616307613583,821.9371336310784 545.6212708673304,798.3555308542095 559.8348396643472,775.7430350407737 575.3452301051327,753.6306550861667 592.1384051121127,724.0573303243491 604.0907243277858,703.706084092257 617.9812574703249,678.1862673885223 629.6105410315205,658.804128119863 638.748378903369,641.7730673689532 651.2539298815232,612.9330651840361 660.6219638613752,594.1969972243322 669.3439265322719,575.4609292646282 674.8314717153735,563.4212086914579 685.4957092561546,542.18825685343 698.7401710897384,515.053261877307 710.6924903054116,486.9491599377511 720.0605242852636,462.39845019744945 727.4903443382495,442.3702396198349 734.1108384779523,426.30545600584105 745.9033766434759,391.3306062123655 759.1478384770597,360.3191833825108 767.5467654934788,341.5831154228068 771.7403495533283,327.3346871500575 779.1760490546743,305.080086466832 785.3137264897498,279.23723410861965 795.967569012817,245.88999194581893 805.9880083763195,216.89135279443246 812.4487214658725,198.47832048920617 818.648370208934,185.5796796743258 826.9853259173669,173.92761074890447 841.329171405051,164.96076949603759 857.0276417837888,173.60457509442682 867.1028091279114,188.15704344661185 874.1485314711044,203.323855306371 886.7469219957329,240.14991991682354 893.8537063942413,268.25402185637944 900.3144194837944,285.69794719817276 903.701374694373,295.89084912816793 909.6824534636465,319.6166909183264 916.4662022076773,337.70668756907503 920.1965028370037,355.17021589074665 929.3876283867835,383.2547148504243 936.1713771308141,409.09756720863663 945.539411110666,440.75506134744666 950.0939225955215,453.11003923761575 955.5535163994733,474.35076941312263 962.6603007979818,497.60933653551376 966.0735779836949,510.32751498236564 970.5451269713545,529.8471006128257\" opacity=\"0.8\" /></g></svg>"
      ],
      "text/plain": [
       "<LINESTRING (0.256 264.862, 10.593 276.734, 17.135 289.09, 19.15 293.313, 27...>"
      ]
     },
     "execution_count": 10,
     "metadata": {},
     "output_type": "execute_result"
    }
   ],
   "source": [
    "gdf.loc[0].geometry"
   ]
  },
  {
   "cell_type": "code",
   "execution_count": 11,
   "metadata": {
    "ExecuteTime": {
     "end_time": "2020-12-29T14:35:58.189653Z",
     "start_time": "2020-12-29T14:35:58.175652Z"
    }
   },
   "outputs": [
    {
     "data": {
      "text/plain": [
       "'LINESTRING (0.256327195431048 264.86214748436396, 10.59346813871597 276.73370778641777, 17.134940141'"
      ]
     },
     "execution_count": 11,
     "metadata": {},
     "output_type": "execute_result"
    }
   ],
   "source": [
    "gdf.loc[0].geometry.wkt[:100]"
   ]
  },
  {
   "cell_type": "code",
   "execution_count": 12,
   "metadata": {
    "ExecuteTime": {
     "end_time": "2020-12-29T14:35:58.204657Z",
     "start_time": "2020-12-29T14:35:58.191656Z"
    }
   },
   "outputs": [
    {
     "data": {
      "text/plain": [
       "shapely.geometry.linestring.LineString"
      ]
     },
     "execution_count": 12,
     "metadata": {},
     "output_type": "execute_result"
    }
   ],
   "source": [
    "type(gdf.loc[0].geometry)"
   ]
  },
  {
   "cell_type": "markdown",
   "metadata": {},
   "source": [
    "### Extracting the Coordinates to Point Objects\n",
    "\n",
    "The resulting GeoDataFrame has now an additional ``X`` and ``Y`` column. These values represent the single vertices of each LineString. The geometry types of the shapely objects in the GeoDataFrame were converted from LineStrings to Points to match the X and Y column data. The ``id`` column was dropped by default. The index of the new GeoDataFrame was reset.\n"
   ]
  },
  {
   "cell_type": "code",
   "execution_count": 13,
   "metadata": {
    "ExecuteTime": {
     "end_time": "2020-12-29T14:35:58.252668Z",
     "start_time": "2020-12-29T14:35:58.206660Z"
    }
   },
   "outputs": [
    {
     "data": {
      "text/html": [
       "<div>\n",
       "<style scoped>\n",
       "    .dataframe tbody tr th:only-of-type {\n",
       "        vertical-align: middle;\n",
       "    }\n",
       "\n",
       "    .dataframe tbody tr th {\n",
       "        vertical-align: top;\n",
       "    }\n",
       "\n",
       "    .dataframe thead th {\n",
       "        text-align: right;\n",
       "    }\n",
       "</style>\n",
       "<table border=\"1\" class=\"dataframe\">\n",
       "  <thead>\n",
       "    <tr style=\"text-align: right;\">\n",
       "      <th></th>\n",
       "      <th>formation</th>\n",
       "      <th>geometry</th>\n",
       "      <th>X</th>\n",
       "      <th>Y</th>\n",
       "    </tr>\n",
       "  </thead>\n",
       "  <tbody>\n",
       "    <tr>\n",
       "      <th>0</th>\n",
       "      <td>Sand1</td>\n",
       "      <td>POINT (0.25633 264.86215)</td>\n",
       "      <td>0.26</td>\n",
       "      <td>264.86</td>\n",
       "    </tr>\n",
       "    <tr>\n",
       "      <th>1</th>\n",
       "      <td>Sand1</td>\n",
       "      <td>POINT (10.59347 276.73371)</td>\n",
       "      <td>10.59</td>\n",
       "      <td>276.73</td>\n",
       "    </tr>\n",
       "    <tr>\n",
       "      <th>2</th>\n",
       "      <td>Sand1</td>\n",
       "      <td>POINT (17.13494 289.08982)</td>\n",
       "      <td>17.13</td>\n",
       "      <td>289.09</td>\n",
       "    </tr>\n",
       "    <tr>\n",
       "      <th>3</th>\n",
       "      <td>Sand1</td>\n",
       "      <td>POINT (19.15013 293.31349)</td>\n",
       "      <td>19.15</td>\n",
       "      <td>293.31</td>\n",
       "    </tr>\n",
       "    <tr>\n",
       "      <th>4</th>\n",
       "      <td>Sand1</td>\n",
       "      <td>POINT (27.79512 310.57169)</td>\n",
       "      <td>27.80</td>\n",
       "      <td>310.57</td>\n",
       "    </tr>\n",
       "  </tbody>\n",
       "</table>\n",
       "</div>"
      ],
      "text/plain": [
       "  formation                    geometry     X      Y\n",
       "0     Sand1   POINT (0.25633 264.86215)  0.26 264.86\n",
       "1     Sand1  POINT (10.59347 276.73371) 10.59 276.73\n",
       "2     Sand1  POINT (17.13494 289.08982) 17.13 289.09\n",
       "3     Sand1  POINT (19.15013 293.31349) 19.15 293.31\n",
       "4     Sand1  POINT (27.79512 310.57169) 27.80 310.57"
      ]
     },
     "execution_count": 13,
     "metadata": {},
     "output_type": "execute_result"
    }
   ],
   "source": [
    "gdf_xy = gg.vector.extract_xy(gdf=gdf)\n",
    "\n",
    "gdf_xy.head()"
   ]
  },
  {
   "cell_type": "markdown",
   "metadata": {},
   "source": [
    "### Plotting the Data\n",
    "\n",
    "The figures below show the original line data and the extracted point data with the respective X and Y data using ``matplotlib``. It can be seen that the single vertices the original LineStrings were made of were extracted.\n"
   ]
  },
  {
   "cell_type": "code",
   "execution_count": 14,
   "metadata": {
    "ExecuteTime": {
     "end_time": "2020-12-29T14:35:58.522520Z",
     "start_time": "2020-12-29T14:35:58.254672Z"
    }
   },
   "outputs": [
    {
     "data": {
      "image/png": "[encoded data removed]",
      "text/plain": [
       "<Figure size 640x480 with 2 Axes>"
      ]
     },
     "metadata": {},
     "output_type": "display_data"
    }
   ],
   "source": [
    "import matplotlib.pyplot as plt\n",
    "\n",
    "fig, (ax1,ax2) = plt.subplots(1,2)\n",
    "\n",
    "gdf.plot(ax=ax1, aspect='equal')\n",
    "ax1.grid()\n",
    "\n",
    "gdf_xy.plot(ax=ax2, aspect='equal')\n",
    "ax2.grid()"
   ]
  },
  {
   "cell_type": "markdown",
   "metadata": {},
   "source": [
    "### Extracting the Coordinates to list of X and Y coordinates in separate cells\n",
    "\n",
    "The coordinates of LineStrings in a GeoDataFrame can also be extracted and are stored as lists in respective X and Y columns using ``extract_xy_linestring(..)``."
   ]
  },
  {
   "cell_type": "code",
   "execution_count": 15,
   "metadata": {
    "ExecuteTime": {
     "end_time": "2020-12-29T14:35:58.554510Z",
     "start_time": "2020-12-29T14:35:58.524503Z"
    }
   },
   "outputs": [
    {
     "data": {
      "text/html": [
       "<div>\n",
       "<style scoped>\n",
       "    .dataframe tbody tr th:only-of-type {\n",
       "        vertical-align: middle;\n",
       "    }\n",
       "\n",
       "    .dataframe tbody tr th {\n",
       "        vertical-align: top;\n",
       "    }\n",
       "\n",
       "    .dataframe thead th {\n",
       "        text-align: right;\n",
       "    }\n",
       "</style>\n",
       "<table border=\"1\" class=\"dataframe\">\n",
       "  <thead>\n",
       "    <tr style=\"text-align: right;\">\n",
       "      <th></th>\n",
       "      <th>id</th>\n",
       "      <th>formation</th>\n",
       "      <th>geometry</th>\n",
       "      <th>X</th>\n",
       "      <th>Y</th>\n",
       "    </tr>\n",
       "  </thead>\n",
       "  <tbody>\n",
       "    <tr>\n",
       "      <th>0</th>\n",
       "      <td>None</td>\n",
       "      <td>Sand1</td>\n",
       "      <td>LINESTRING (0.25633 264.86215, 10.59347 276.73...</td>\n",
       "      <td>[0.256327195431048, 10.59346813871597, 17.1349...</td>\n",
       "      <td>[264.86214748436396, 276.73370778641777, 289.0...</td>\n",
       "    </tr>\n",
       "    <tr>\n",
       "      <th>1</th>\n",
       "      <td>None</td>\n",
       "      <td>Ton</td>\n",
       "      <td>LINESTRING (0.18819 495.78721, 8.84067 504.141...</td>\n",
       "      <td>[0.1881868620686138, 8.840672956663411, 41.092...</td>\n",
       "      <td>[495.787213546976, 504.1418419288791, 546.4230...</td>\n",
       "    </tr>\n",
       "    <tr>\n",
       "      <th>2</th>\n",
       "      <td>None</td>\n",
       "      <td>Ton</td>\n",
       "      <td>LINESTRING (970.67663 833.05262, 959.37243 800...</td>\n",
       "      <td>[970.6766251230017, 959.3724321757514, 941.291...</td>\n",
       "      <td>[833.052616499831, 800.0232029873156, 754.8012...</td>\n",
       "    </tr>\n",
       "  </tbody>\n",
       "</table>\n",
       "</div>"
      ],
      "text/plain": [
       "     id formation                                           geometry  \\\n",
       "0  None     Sand1  LINESTRING (0.25633 264.86215, 10.59347 276.73...   \n",
       "1  None       Ton  LINESTRING (0.18819 495.78721, 8.84067 504.141...   \n",
       "2  None       Ton  LINESTRING (970.67663 833.05262, 959.37243 800...   \n",
       "\n",
       "                                                   X  \\\n",
       "0  [0.256327195431048, 10.59346813871597, 17.1349...   \n",
       "1  [0.1881868620686138, 8.840672956663411, 41.092...   \n",
       "2  [970.6766251230017, 959.3724321757514, 941.291...   \n",
       "\n",
       "                                                   Y  \n",
       "0  [264.86214748436396, 276.73370778641777, 289.0...  \n",
       "1  [495.787213546976, 504.1418419288791, 546.4230...  \n",
       "2  [833.052616499831, 800.0232029873156, 754.8012...  "
      ]
     },
     "execution_count": 15,
     "metadata": {},
     "output_type": "execute_result"
    }
   ],
   "source": [
    "gdf_xy = gg.vector.extract_xy_linestring(gdf=gdf)\n",
    "gdf_xy"
   ]
  },
  {
   "cell_type": "markdown",
   "metadata": {},
   "source": [
    "## Polygon Data\n",
    "\n",
    "The polygon data stored as shape file will be loaded as GeoDataFrame. It can be seen that the objects in the geometry column are Shapely objects."
   ]
  },
  {
   "cell_type": "code",
   "execution_count": 16,
   "metadata": {
    "ExecuteTime": {
     "end_time": "2020-12-29T14:35:58.602520Z",
     "start_time": "2020-12-29T14:35:58.555509Z"
    }
   },
   "outputs": [
    {
     "data": {
      "text/html": [
       "<div>\n",
       "<style scoped>\n",
       "    .dataframe tbody tr th:only-of-type {\n",
       "        vertical-align: middle;\n",
       "    }\n",
       "\n",
       "    .dataframe tbody tr th {\n",
       "        vertical-align: top;\n",
       "    }\n",
       "\n",
       "    .dataframe thead th {\n",
       "        text-align: right;\n",
       "    }\n",
       "</style>\n",
       "<table border=\"1\" class=\"dataframe\">\n",
       "  <thead>\n",
       "    <tr style=\"text-align: right;\">\n",
       "      <th></th>\n",
       "      <th>id</th>\n",
       "      <th>formation</th>\n",
       "      <th>geometry</th>\n",
       "    </tr>\n",
       "  </thead>\n",
       "  <tbody>\n",
       "    <tr>\n",
       "      <th>0</th>\n",
       "      <td>None</td>\n",
       "      <td>Sand1</td>\n",
       "      <td>POLYGON ((0.25633 264.86215, 10.59347 276.7337...</td>\n",
       "    </tr>\n",
       "    <tr>\n",
       "      <th>1</th>\n",
       "      <td>None</td>\n",
       "      <td>Ton</td>\n",
       "      <td>POLYGON ((0.25633 264.86215, 0.18819 495.78721...</td>\n",
       "    </tr>\n",
       "    <tr>\n",
       "      <th>2</th>\n",
       "      <td>None</td>\n",
       "      <td>Sand2</td>\n",
       "      <td>POLYGON ((0.18819 495.78721, 0.24897 1068.7595...</td>\n",
       "    </tr>\n",
       "    <tr>\n",
       "      <th>3</th>\n",
       "      <td>None</td>\n",
       "      <td>Sand2</td>\n",
       "      <td>POLYGON ((511.67477 1068.85246, 971.69794 1068...</td>\n",
       "    </tr>\n",
       "  </tbody>\n",
       "</table>\n",
       "</div>"
      ],
      "text/plain": [
       "     id formation                                           geometry\n",
       "0  None     Sand1  POLYGON ((0.25633 264.86215, 10.59347 276.7337...\n",
       "1  None       Ton  POLYGON ((0.25633 264.86215, 0.18819 495.78721...\n",
       "2  None     Sand2  POLYGON ((0.18819 495.78721, 0.24897 1068.7595...\n",
       "3  None     Sand2  POLYGON ((511.67477 1068.85246, 971.69794 1068..."
      ]
     },
     "execution_count": 16,
     "metadata": {},
     "output_type": "execute_result"
    }
   ],
   "source": [
    "import geopandas as gpd\n",
    "import gemgis as gg\n",
    "\n",
    "gdf = gpd.read_file(file_path + 'interfaces_polygons.shp')\n",
    "\n",
    "gdf.head()"
   ]
  },
  {
   "cell_type": "markdown",
   "metadata": {},
   "source": [
    "### Inspecting the geometry column\n",
    "\n",
    "The elements of the geometry columns can be accessed by indexing the GeoDataFrame. It can be seen that the objects in the ``geometry`` column are Shapely objects."
   ]
  },
  {
   "cell_type": "code",
   "execution_count": 17,
   "metadata": {
    "ExecuteTime": {
     "end_time": "2020-12-29T14:35:58.618615Z",
     "start_time": "2020-12-29T14:35:58.604521Z"
    }
   },
   "outputs": [
    {
     "data": {
      "image/svg+xml": [
       "<svg xmlns=\"http://www.w3.org/2000/svg\" xmlns:xlink=\"http://www.w3.org/1999/xlink\" width=\"300\" height=\"300\" viewBox=\"-38.63797319281102 -38.8810101187466 1049.6009878157 1035.0441936358027\" preserveAspectRatio=\"xMinYMin meet\"><g transform=\"matrix(1,0,0,-1,0,957.2821733983095)\"><path fill-rule=\"evenodd\" fill=\"#66cc99\" stroke=\"#555555\" stroke-width=\"6.997339918771333\" opacity=\"0.6\" d=\"M 0.256327195431048,264.86214748436396 L 10.59346813871597,276.73370778641777 L 17.134940141888464,289.089821570188 L 19.150128045807676,293.313485355882 L 27.79511673965105,310.571692592952 L 34.41734765644295,324.13919008101345 L 40.7165429187572,338.5142767052691 L 49.27698776241503,352.56632767504703 L 55.33390628387104,364.1148523226231 L 60.98703023722999,376.30944827915454 L 61.93436666575576,381.4593263680641 L 74.31225098443318,404.8981037004269 L 89.49492674488292,440.43202569296886 L 100.8011746516008,465.62880674222583 L 109.35786007581868,480.9455679783049 L 122.12152784712598,511.49986967805273 L 134.7199183717545,543.1573638168628 L 146.02616627847237,575.1378936101505 L 154.748128949369,602.2728885862734 L 157.81229899479604,615.9994296460927 L 170.2538403642964,655.5737715750863 L 179.944909998626,686.9082300594188 L 191.31802803451436,719.0939805375339 L 200.61919188519585,750.2232183370392 L 210.95633282848075,774.7739280773408 L 224.82375707423273,798.4767847239435 L 240.67561304042493,822.9062405945112 L 255.21221749191938,846.1648077169024 L 264.903287126249,861.9935547863074 L 264.903287126249,861.9935547863074 L 272.76272323875287,874.2512796291529 L 291.3922107934166,899.788726360193 L 308.8361361352099,915.9405090840756 L 323.27905317555906,927.3449733382452 L 341.462737237453,937.9069335885562 L 355.03023472551445,947.2749675684081 L 366.0632917955071,952.6031383066481 L 384.7495149374586,957.2890728572154 L 394.44058457178824,955.9969302393048 L 407.8165849065408,950.0257745343622 L 423.1907578202995,941.4603257878103 L 441.2807544710481,929.1849709176595 L 456.27102382551817,917.5509910035582 L 474.5534268822465,900.757833323626 L 490.05913829717383,879.4374801281008 L 503.94967143971303,861.3474834773522 L 515.0349178336396,847.9621691518354 L 530.7616307613583,821.9371336310784 L 545.6212708673304,798.3555308542095 L 559.8348396643472,775.7430350407737 L 575.3452301051327,753.6306550861667 L 592.1384051121127,724.0573303243491 L 604.0907243277858,703.706084092257 L 617.9812574703249,678.1862673885223 L 629.6105410315205,658.804128119863 L 638.748378903369,641.7730673689532 L 651.2539298815232,612.9330651840361 L 660.6219638613752,594.1969972243322 L 669.3439265322719,575.4609292646282 L 674.8314717153735,563.4212086914579 L 685.4957092561546,542.18825685343 L 698.7401710897384,515.053261877307 L 710.6924903054116,486.9491599377511 L 720.0605242852636,462.39845019744945 L 727.4903443382495,442.3702396198349 L 734.1108384779523,426.30545600584105 L 745.9033766434759,391.3306062123655 L 759.1478384770597,360.3191833825108 L 767.5467654934788,341.5831154228068 L 771.7403495533283,327.3346871500575 L 779.1760490546743,305.080086466832 L 785.3137264897498,279.23723410861965 L 795.967569012817,245.88999194581893 L 805.9880083763195,216.89135279443246 L 812.4487214658725,198.47832048920617 L 818.648370208934,185.5796796743258 L 826.9853259173669,173.92761074890447 L 841.329171405051,164.96076949603759 L 857.0276417837888,173.60457509442682 L 867.1028091279114,188.15704344661185 L 874.1485314711044,203.323855306371 L 886.7469219957329,240.14991991682354 L 893.8537063942413,268.25402185637944 L 900.3144194837944,285.69794719817276 L 903.701374694373,295.89084912816793 L 909.6824534636465,319.6166909183264 L 916.4662022076773,337.70668756907503 L 920.1965028370037,355.17021589074665 L 929.3876283867835,383.2547148504243 L 936.1713771308141,409.09756720863663 L 945.539411110666,440.75506134744666 L 950.0939225955215,453.11003923761575 L 955.5535163994733,474.35076941312263 L 962.6603007979818,497.60933653551376 L 966.0735779836949,510.32751498236564 L 972.0889039630482,529.79176361285 L 971.8062477653798,-0.006899458905866851 L 0.23613746702971916,0.15461836833298648 L 0.256327195431048,264.86214748436396 z\" /></g></svg>"
      ],
      "text/plain": [
       "<POLYGON ((0.256 264.862, 10.593 276.734, 17.135 289.09, 19.15 293.313, 27.7...>"
      ]
     },
     "execution_count": 17,
     "metadata": {},
     "output_type": "execute_result"
    }
   ],
   "source": [
    "gdf.loc[0].geometry"
   ]
  },
  {
   "cell_type": "code",
   "execution_count": 18,
   "metadata": {
    "ExecuteTime": {
     "end_time": "2020-12-29T14:35:58.634633Z",
     "start_time": "2020-12-29T14:35:58.620617Z"
    }
   },
   "outputs": [
    {
     "data": {
      "text/plain": [
       "'POLYGON ((0.256327195431048 264.86214748436396, 10.59346813871597 276.73370778641777, 17.13494014188'"
      ]
     },
     "execution_count": 18,
     "metadata": {},
     "output_type": "execute_result"
    }
   ],
   "source": [
    "gdf.loc[0].geometry.wkt[:100]"
   ]
  },
  {
   "cell_type": "code",
   "execution_count": 19,
   "metadata": {
    "ExecuteTime": {
     "end_time": "2020-12-29T14:35:58.650622Z",
     "start_time": "2020-12-29T14:35:58.636621Z"
    }
   },
   "outputs": [
    {
     "data": {
      "text/plain": [
       "shapely.geometry.polygon.Polygon"
      ]
     },
     "execution_count": 19,
     "metadata": {},
     "output_type": "execute_result"
    }
   ],
   "source": [
    "type(gdf.loc[0].geometry)"
   ]
  },
  {
   "cell_type": "markdown",
   "metadata": {},
   "source": [
    "### Extracting the Coordinates\n",
    "\n",
    "The resulting GeoDataFrame has now an additional ``X`` and ``Y`` column. These values represent the single vertices of each Polygon. The geometry types of the shapely objects in the GeoDataFrame were converted from Polygons to Points to match the X and Y column data. The ``id`` column was dropped by default. The index of the new GeoDataFrame was reset.\n"
   ]
  },
  {
   "cell_type": "code",
   "execution_count": 20,
   "metadata": {
    "ExecuteTime": {
     "end_time": "2020-12-29T14:35:58.698641Z",
     "start_time": "2020-12-29T14:35:58.652625Z"
    }
   },
   "outputs": [
    {
     "data": {
      "text/html": [
       "<div>\n",
       "<style scoped>\n",
       "    .dataframe tbody tr th:only-of-type {\n",
       "        vertical-align: middle;\n",
       "    }\n",
       "\n",
       "    .dataframe tbody tr th {\n",
       "        vertical-align: top;\n",
       "    }\n",
       "\n",
       "    .dataframe thead th {\n",
       "        text-align: right;\n",
       "    }\n",
       "</style>\n",
       "<table border=\"1\" class=\"dataframe\">\n",
       "  <thead>\n",
       "    <tr style=\"text-align: right;\">\n",
       "      <th></th>\n",
       "      <th>formation</th>\n",
       "      <th>geometry</th>\n",
       "      <th>X</th>\n",
       "      <th>Y</th>\n",
       "    </tr>\n",
       "  </thead>\n",
       "  <tbody>\n",
       "    <tr>\n",
       "      <th>0</th>\n",
       "      <td>Sand1</td>\n",
       "      <td>POINT (0.25633 264.86215)</td>\n",
       "      <td>0.26</td>\n",
       "      <td>264.86</td>\n",
       "    </tr>\n",
       "    <tr>\n",
       "      <th>1</th>\n",
       "      <td>Sand1</td>\n",
       "      <td>POINT (10.59347 276.73371)</td>\n",
       "      <td>10.59</td>\n",
       "      <td>276.73</td>\n",
       "    </tr>\n",
       "    <tr>\n",
       "      <th>2</th>\n",
       "      <td>Sand1</td>\n",
       "      <td>POINT (17.13494 289.08982)</td>\n",
       "      <td>17.13</td>\n",
       "      <td>289.09</td>\n",
       "    </tr>\n",
       "    <tr>\n",
       "      <th>3</th>\n",
       "      <td>Sand1</td>\n",
       "      <td>POINT (19.15013 293.31349)</td>\n",
       "      <td>19.15</td>\n",
       "      <td>293.31</td>\n",
       "    </tr>\n",
       "    <tr>\n",
       "      <th>4</th>\n",
       "      <td>Sand1</td>\n",
       "      <td>POINT (27.79512 310.57169)</td>\n",
       "      <td>27.80</td>\n",
       "      <td>310.57</td>\n",
       "    </tr>\n",
       "  </tbody>\n",
       "</table>\n",
       "</div>"
      ],
      "text/plain": [
       "  formation                    geometry     X      Y\n",
       "0     Sand1   POINT (0.25633 264.86215)  0.26 264.86\n",
       "1     Sand1  POINT (10.59347 276.73371) 10.59 276.73\n",
       "2     Sand1  POINT (17.13494 289.08982) 17.13 289.09\n",
       "3     Sand1  POINT (19.15013 293.31349) 19.15 293.31\n",
       "4     Sand1  POINT (27.79512 310.57169) 27.80 310.57"
      ]
     },
     "execution_count": 20,
     "metadata": {},
     "output_type": "execute_result"
    }
   ],
   "source": [
    "gdf_xy = gg.vector.extract_xy(gdf=gdf)\n",
    "\n",
    "gdf_xy.head()"
   ]
  },
  {
   "cell_type": "markdown",
   "metadata": {},
   "source": [
    "### Plotting the Data\n",
    "\n",
    "The figures below show the original polygon data and the extracted point data with the respective X and Y data using ``matplotlib``. It can be seen that the single vertices the original Polygons were made of were extracted.\n"
   ]
  },
  {
   "cell_type": "code",
   "execution_count": 21,
   "metadata": {
    "ExecuteTime": {
     "end_time": "2020-12-29T14:35:58.984042Z",
     "start_time": "2020-12-29T14:35:58.700634Z"
    }
   },
   "outputs": [
    {
     "data": {
      "image/png": "[encoded data removed]",
      "text/plain": [
       "<Figure size 640x480 with 2 Axes>"
      ]
     },
     "metadata": {},
     "output_type": "display_data"
    }
   ],
   "source": [
    "import matplotlib.pyplot as plt\n",
    "\n",
    "fig, (ax1,ax2) = plt.subplots(1,2)\n",
    "\n",
    "gdf.plot(ax=ax1, column='formation', aspect='equal')\n",
    "ax1.grid()\n",
    "\n",
    "gdf_xy.plot(ax=ax2, aspect='equal')\n",
    "ax2.grid()"
   ]
  },
  {
   "cell_type": "markdown",
   "metadata": {},
   "source": [
    "### Removing the corner points of the polygons\n",
    "\n",
    "In the above plot, it can be seen, that the corner points are still present in the extracted X and Y point pairs. The additional argument ``remove_total_bounds`` can be used to remove vertices that are equal to either of the total bounds of the polygon gdf.\n",
    "\n",
    "The total bounds of the original gdf:"
   ]
  },
  {
   "cell_type": "code",
   "execution_count": 22,
   "metadata": {
    "ExecuteTime": {
     "end_time": "2020-12-29T14:35:58.999672Z",
     "start_time": "2020-12-29T14:35:58.986050Z"
    }
   },
   "outputs": [
    {
     "data": {
      "text/plain": [
       "array([ 1.88186862e-01, -6.89945891e-03,  9.72088904e+02,  1.06885246e+03])"
      ]
     },
     "execution_count": 22,
     "metadata": {},
     "output_type": "execute_result"
    }
   ],
   "source": [
    "gdf.total_bounds"
   ]
  },
  {
   "cell_type": "markdown",
   "metadata": {},
   "source": [
    "The length of the extracted vertices:"
   ]
  },
  {
   "cell_type": "code",
   "execution_count": 23,
   "metadata": {
    "ExecuteTime": {
     "end_time": "2020-12-29T14:35:59.014678Z",
     "start_time": "2020-12-29T14:35:59.004678Z"
    }
   },
   "outputs": [
    {
     "data": {
      "text/plain": [
       "269"
      ]
     },
     "execution_count": 23,
     "metadata": {},
     "output_type": "execute_result"
    }
   ],
   "source": [
    "len(gdf_xy)"
   ]
  },
  {
   "cell_type": "markdown",
   "metadata": {},
   "source": [
    "Extracting the vertices but removing the total bounds. A total of 18 points were removed that were within 0.1 units of the total bounds. "
   ]
  },
  {
   "cell_type": "code",
   "execution_count": 24,
   "metadata": {
    "ExecuteTime": {
     "end_time": "2020-12-29T14:35:59.077792Z",
     "start_time": "2020-12-29T14:35:59.017680Z"
    }
   },
   "outputs": [
    {
     "name": "stdout",
     "output_type": "stream",
     "text": [
      "251\n"
     ]
    },
    {
     "data": {
      "text/html": [
       "<div>\n",
       "<style scoped>\n",
       "    .dataframe tbody tr th:only-of-type {\n",
       "        vertical-align: middle;\n",
       "    }\n",
       "\n",
       "    .dataframe tbody tr th {\n",
       "        vertical-align: top;\n",
       "    }\n",
       "\n",
       "    .dataframe thead th {\n",
       "        text-align: right;\n",
       "    }\n",
       "</style>\n",
       "<table border=\"1\" class=\"dataframe\">\n",
       "  <thead>\n",
       "    <tr style=\"text-align: right;\">\n",
       "      <th></th>\n",
       "      <th>formation</th>\n",
       "      <th>geometry</th>\n",
       "      <th>X</th>\n",
       "      <th>Y</th>\n",
       "    </tr>\n",
       "  </thead>\n",
       "  <tbody>\n",
       "    <tr>\n",
       "      <th>1</th>\n",
       "      <td>Sand1</td>\n",
       "      <td>POINT (10.59347 276.73371)</td>\n",
       "      <td>10.59</td>\n",
       "      <td>276.73</td>\n",
       "    </tr>\n",
       "    <tr>\n",
       "      <th>2</th>\n",
       "      <td>Sand1</td>\n",
       "      <td>POINT (17.13494 289.08982)</td>\n",
       "      <td>17.13</td>\n",
       "      <td>289.09</td>\n",
       "    </tr>\n",
       "    <tr>\n",
       "      <th>3</th>\n",
       "      <td>Sand1</td>\n",
       "      <td>POINT (19.15013 293.31349)</td>\n",
       "      <td>19.15</td>\n",
       "      <td>293.31</td>\n",
       "    </tr>\n",
       "    <tr>\n",
       "      <th>4</th>\n",
       "      <td>Sand1</td>\n",
       "      <td>POINT (27.79512 310.57169)</td>\n",
       "      <td>27.80</td>\n",
       "      <td>310.57</td>\n",
       "    </tr>\n",
       "    <tr>\n",
       "      <th>5</th>\n",
       "      <td>Sand1</td>\n",
       "      <td>POINT (34.41735 324.13919)</td>\n",
       "      <td>34.42</td>\n",
       "      <td>324.14</td>\n",
       "    </tr>\n",
       "  </tbody>\n",
       "</table>\n",
       "</div>"
      ],
      "text/plain": [
       "  formation                    geometry     X      Y\n",
       "1     Sand1  POINT (10.59347 276.73371) 10.59 276.73\n",
       "2     Sand1  POINT (17.13494 289.08982) 17.13 289.09\n",
       "3     Sand1  POINT (19.15013 293.31349) 19.15 293.31\n",
       "4     Sand1  POINT (27.79512 310.57169) 27.80 310.57\n",
       "5     Sand1  POINT (34.41735 324.13919) 34.42 324.14"
      ]
     },
     "execution_count": 24,
     "metadata": {},
     "output_type": "execute_result"
    }
   ],
   "source": [
    "gdf_xy_without_bounds = gg.vector.extract_xy(gdf=gdf, remove_total_bounds=True, threshold_bounds=0.1)\n",
    "print(len(gdf_xy_without_bounds))\n",
    "gdf_xy_without_bounds.head()"
   ]
  },
  {
   "cell_type": "markdown",
   "metadata": {},
   "source": [
    "The removal of the points can also be inspected visually."
   ]
  },
  {
   "cell_type": "code",
   "execution_count": 25,
   "metadata": {
    "ExecuteTime": {
     "end_time": "2020-12-29T14:35:59.364963Z",
     "start_time": "2020-12-29T14:35:59.079797Z"
    }
   },
   "outputs": [
    {
     "data": {
      "image/png": "[encoded data removed]",
      "text/plain": [
       "<Figure size 640x480 with 2 Axes>"
      ]
     },
     "metadata": {},
     "output_type": "display_data"
    }
   ],
   "source": [
    "import matplotlib.pyplot as plt\n",
    "\n",
    "fig, (ax1,ax2) = plt.subplots(1,2)\n",
    "\n",
    "gdf_xy.plot(ax=ax1, aspect='equal')\n",
    "ax1.grid()\n",
    "\n",
    "gdf_xy_without_bounds.plot(ax=ax2, aspect='equal')\n",
    "ax2.grid()"
   ]
  },
  {
   "cell_type": "markdown",
   "metadata": {},
   "source": [
    "## Geometry Collections\n",
    "\n",
    "Geometry collections contain different types of geometries. Here, a GeoDataFrame is created with one GeometryCollection object and two LineStrings."
   ]
  },
  {
   "cell_type": "code",
   "execution_count": 26,
   "metadata": {
    "ExecuteTime": {
     "end_time": "2020-12-29T14:35:59.380391Z",
     "start_time": "2020-12-29T14:35:59.366860Z"
    }
   },
   "outputs": [],
   "source": [
    "from shapely.geometry import LineString\n",
    "import geopandas as gpd\n",
    "import gemgis as gg\n",
    "\n",
    "line1 = LineString([(0, 0), (1, 1), (1, 2), (2, 2)])\n",
    "line2 = LineString([(0, 0), (1, 1), (2, 1), (2, 2)])\n",
    "collection = line1.intersection(line2)"
   ]
  },
  {
   "cell_type": "code",
   "execution_count": 27,
   "metadata": {
    "ExecuteTime": {
     "end_time": "2020-12-29T14:35:59.396378Z",
     "start_time": "2020-12-29T14:35:59.383373Z"
    }
   },
   "outputs": [
    {
     "data": {
      "text/plain": [
       "shapely.geometry.collection.GeometryCollection"
      ]
     },
     "execution_count": 27,
     "metadata": {},
     "output_type": "execute_result"
    }
   ],
   "source": [
    "type(collection)"
   ]
  },
  {
   "cell_type": "markdown",
   "metadata": {},
   "source": [
    "### Creating the GeoDataFrame with different geom_types"
   ]
  },
  {
   "cell_type": "code",
   "execution_count": 28,
   "metadata": {
    "ExecuteTime": {
     "end_time": "2020-12-29T14:35:59.412389Z",
     "start_time": "2020-12-29T14:35:59.397379Z"
    }
   },
   "outputs": [
    {
     "data": {
      "text/html": [
       "<div>\n",
       "<style scoped>\n",
       "    .dataframe tbody tr th:only-of-type {\n",
       "        vertical-align: middle;\n",
       "    }\n",
       "\n",
       "    .dataframe tbody tr th {\n",
       "        vertical-align: top;\n",
       "    }\n",
       "\n",
       "    .dataframe thead th {\n",
       "        text-align: right;\n",
       "    }\n",
       "</style>\n",
       "<table border=\"1\" class=\"dataframe\">\n",
       "  <thead>\n",
       "    <tr style=\"text-align: right;\">\n",
       "      <th></th>\n",
       "      <th>geometry</th>\n",
       "    </tr>\n",
       "  </thead>\n",
       "  <tbody>\n",
       "    <tr>\n",
       "      <th>0</th>\n",
       "      <td>GEOMETRYCOLLECTION (LINESTRING (0.00000 0.0000...</td>\n",
       "    </tr>\n",
       "    <tr>\n",
       "      <th>1</th>\n",
       "      <td>LINESTRING (0.00000 0.00000, 1.00000 1.00000, ...</td>\n",
       "    </tr>\n",
       "    <tr>\n",
       "      <th>2</th>\n",
       "      <td>LINESTRING (0.00000 0.00000, 1.00000 1.00000, ...</td>\n",
       "    </tr>\n",
       "  </tbody>\n",
       "</table>\n",
       "</div>"
      ],
      "text/plain": [
       "                                            geometry\n",
       "0  GEOMETRYCOLLECTION (LINESTRING (0.00000 0.0000...\n",
       "1  LINESTRING (0.00000 0.00000, 1.00000 1.00000, ...\n",
       "2  LINESTRING (0.00000 0.00000, 1.00000 1.00000, ..."
      ]
     },
     "execution_count": 28,
     "metadata": {},
     "output_type": "execute_result"
    }
   ],
   "source": [
    "gdf = gpd.GeoDataFrame(geometry=[collection, line1, line2])\n",
    "gdf"
   ]
  },
  {
   "cell_type": "markdown",
   "metadata": {},
   "source": [
    "### Extracting the Coordinates\n",
    "\n",
    "The resulting GeoDataFrame has now an additional ``X`` and ``Y`` column. These values represent the single vertices of each Polygon. The geometry types of the shapely objects in the GeoDataFrame were converted from Polygons to Points to match the X and Y column data. The ``id`` column was dropped by default. The index of the new GeoDataFrame was reset.\n",
    "\n",
    "**NB: By default, points within a geometry collection are dropped as they usually do not represent true layer boundaries and rather corner points.**"
   ]
  },
  {
   "cell_type": "code",
   "execution_count": 29,
   "metadata": {
    "ExecuteTime": {
     "end_time": "2020-12-29T14:35:59.460401Z",
     "start_time": "2020-12-29T14:35:59.414380Z"
    }
   },
   "outputs": [
    {
     "data": {
      "text/html": [
       "<div>\n",
       "<style scoped>\n",
       "    .dataframe tbody tr th:only-of-type {\n",
       "        vertical-align: middle;\n",
       "    }\n",
       "\n",
       "    .dataframe tbody tr th {\n",
       "        vertical-align: top;\n",
       "    }\n",
       "\n",
       "    .dataframe thead th {\n",
       "        text-align: right;\n",
       "    }\n",
       "</style>\n",
       "<table border=\"1\" class=\"dataframe\">\n",
       "  <thead>\n",
       "    <tr style=\"text-align: right;\">\n",
       "      <th></th>\n",
       "      <th>geometry</th>\n",
       "      <th>X</th>\n",
       "      <th>Y</th>\n",
       "    </tr>\n",
       "  </thead>\n",
       "  <tbody>\n",
       "    <tr>\n",
       "      <th>0</th>\n",
       "      <td>POINT (0.00000 0.00000)</td>\n",
       "      <td>0.00</td>\n",
       "      <td>0.00</td>\n",
       "    </tr>\n",
       "    <tr>\n",
       "      <th>1</th>\n",
       "      <td>POINT (1.00000 1.00000)</td>\n",
       "      <td>1.00</td>\n",
       "      <td>1.00</td>\n",
       "    </tr>\n",
       "    <tr>\n",
       "      <th>2</th>\n",
       "      <td>POINT (0.00000 0.00000)</td>\n",
       "      <td>0.00</td>\n",
       "      <td>0.00</td>\n",
       "    </tr>\n",
       "    <tr>\n",
       "      <th>3</th>\n",
       "      <td>POINT (1.00000 1.00000)</td>\n",
       "      <td>1.00</td>\n",
       "      <td>1.00</td>\n",
       "    </tr>\n",
       "    <tr>\n",
       "      <th>4</th>\n",
       "      <td>POINT (1.00000 2.00000)</td>\n",
       "      <td>1.00</td>\n",
       "      <td>2.00</td>\n",
       "    </tr>\n",
       "    <tr>\n",
       "      <th>5</th>\n",
       "      <td>POINT (2.00000 2.00000)</td>\n",
       "      <td>2.00</td>\n",
       "      <td>2.00</td>\n",
       "    </tr>\n",
       "    <tr>\n",
       "      <th>6</th>\n",
       "      <td>POINT (0.00000 0.00000)</td>\n",
       "      <td>0.00</td>\n",
       "      <td>0.00</td>\n",
       "    </tr>\n",
       "    <tr>\n",
       "      <th>7</th>\n",
       "      <td>POINT (1.00000 1.00000)</td>\n",
       "      <td>1.00</td>\n",
       "      <td>1.00</td>\n",
       "    </tr>\n",
       "    <tr>\n",
       "      <th>8</th>\n",
       "      <td>POINT (2.00000 1.00000)</td>\n",
       "      <td>2.00</td>\n",
       "      <td>1.00</td>\n",
       "    </tr>\n",
       "    <tr>\n",
       "      <th>9</th>\n",
       "      <td>POINT (2.00000 2.00000)</td>\n",
       "      <td>2.00</td>\n",
       "      <td>2.00</td>\n",
       "    </tr>\n",
       "  </tbody>\n",
       "</table>\n",
       "</div>"
      ],
      "text/plain": [
       "                  geometry    X    Y\n",
       "0  POINT (0.00000 0.00000) 0.00 0.00\n",
       "1  POINT (1.00000 1.00000) 1.00 1.00\n",
       "2  POINT (0.00000 0.00000) 0.00 0.00\n",
       "3  POINT (1.00000 1.00000) 1.00 1.00\n",
       "4  POINT (1.00000 2.00000) 1.00 2.00\n",
       "5  POINT (2.00000 2.00000) 2.00 2.00\n",
       "6  POINT (0.00000 0.00000) 0.00 0.00\n",
       "7  POINT (1.00000 1.00000) 1.00 1.00\n",
       "8  POINT (2.00000 1.00000) 2.00 1.00\n",
       "9  POINT (2.00000 2.00000) 2.00 2.00"
      ]
     },
     "execution_count": 29,
     "metadata": {},
     "output_type": "execute_result"
    }
   ],
   "source": [
    "gdf_xy = gg.vector.extract_xy(gdf=gdf)\n",
    "\n",
    "gdf_xy"
   ]
  },
  {
   "cell_type": "markdown",
   "metadata": {},
   "source": [
    "### Plotting the Data\n",
    "\n",
    "The figures below show the original polygon data and the extracted point data with the respective X and Y data with ``matplotlib``. Note the point in the upper right of the left plot which was dropped during the extraction of the vertices.\n"
   ]
  },
  {
   "cell_type": "code",
   "execution_count": 30,
   "metadata": {
    "ExecuteTime": {
     "end_time": "2020-12-29T14:35:59.828473Z",
     "start_time": "2020-12-29T14:35:59.461391Z"
    }
   },
   "outputs": [
    {
     "data": {
      "image/png": "[encoded data removed]",
      "text/plain": [
       "<Figure size 640x480 with 2 Axes>"
      ]
     },
     "metadata": {},
     "output_type": "display_data"
    }
   ],
   "source": [
    "import matplotlib.pyplot as plt\n",
    "\n",
    "fig, (ax1,ax2) = plt.subplots(1,2)\n",
    "\n",
    "gdf.plot(ax=ax1, aspect='equal')\n",
    "ax1.grid()\n",
    "\n",
    "gdf_xy.plot(ax=ax2, aspect='equal')\n",
    "ax2.grid()"
   ]
  },
  {
   "cell_type": "markdown",
   "metadata": {},
   "source": [
    "## Additional Arguments\n",
    "\n",
    "Several additional arguments can be passed to adapt the functionality of the function. For further reference, see the [API Reference for extract_xy](https://gemgis.readthedocs.io/en/latest/api_reference/vector_data.html).\n",
    "\n",
    "* reset_index (bool)\n",
    "* drop_id (bool)\n",
    "* drop_level0 (bool)\n",
    "* drop_level1 (bool)\n",
    "* drop_index (bool)\n",
    "* drop_points (bool)\n",
    "* overwrite_xy (bool)\n",
    "* target_crs(str, pyproj.crs.crs.CRS)\n",
    "* bbox (list)\n",
    "* remove_total_bounds (bool)\n",
    "* threshold_bounds (float, int)\n",
    "\n",
    "### Original Function\n",
    "\n",
    "Original function with default values of arguments."
   ]
  },
  {
   "cell_type": "code",
   "execution_count": 31,
   "metadata": {
    "ExecuteTime": {
     "end_time": "2020-12-29T14:35:59.875380Z",
     "start_time": "2020-12-29T14:35:59.830476Z"
    }
   },
   "outputs": [
    {
     "data": {
      "text/html": [
       "<div>\n",
       "<style scoped>\n",
       "    .dataframe tbody tr th:only-of-type {\n",
       "        vertical-align: middle;\n",
       "    }\n",
       "\n",
       "    .dataframe tbody tr th {\n",
       "        vertical-align: top;\n",
       "    }\n",
       "\n",
       "    .dataframe thead th {\n",
       "        text-align: right;\n",
       "    }\n",
       "</style>\n",
       "<table border=\"1\" class=\"dataframe\">\n",
       "  <thead>\n",
       "    <tr style=\"text-align: right;\">\n",
       "      <th></th>\n",
       "      <th>geometry</th>\n",
       "      <th>X</th>\n",
       "      <th>Y</th>\n",
       "    </tr>\n",
       "  </thead>\n",
       "  <tbody>\n",
       "    <tr>\n",
       "      <th>0</th>\n",
       "      <td>POINT (0.00000 0.00000)</td>\n",
       "      <td>0.00</td>\n",
       "      <td>0.00</td>\n",
       "    </tr>\n",
       "    <tr>\n",
       "      <th>1</th>\n",
       "      <td>POINT (1.00000 1.00000)</td>\n",
       "      <td>1.00</td>\n",
       "      <td>1.00</td>\n",
       "    </tr>\n",
       "    <tr>\n",
       "      <th>2</th>\n",
       "      <td>POINT (0.00000 0.00000)</td>\n",
       "      <td>0.00</td>\n",
       "      <td>0.00</td>\n",
       "    </tr>\n",
       "    <tr>\n",
       "      <th>3</th>\n",
       "      <td>POINT (1.00000 1.00000)</td>\n",
       "      <td>1.00</td>\n",
       "      <td>1.00</td>\n",
       "    </tr>\n",
       "    <tr>\n",
       "      <th>4</th>\n",
       "      <td>POINT (1.00000 2.00000)</td>\n",
       "      <td>1.00</td>\n",
       "      <td>2.00</td>\n",
       "    </tr>\n",
       "  </tbody>\n",
       "</table>\n",
       "</div>"
      ],
      "text/plain": [
       "                  geometry    X    Y\n",
       "0  POINT (0.00000 0.00000) 0.00 0.00\n",
       "1  POINT (1.00000 1.00000) 1.00 1.00\n",
       "2  POINT (0.00000 0.00000) 0.00 0.00\n",
       "3  POINT (1.00000 1.00000) 1.00 1.00\n",
       "4  POINT (1.00000 2.00000) 1.00 2.00"
      ]
     },
     "execution_count": 31,
     "metadata": {},
     "output_type": "execute_result"
    }
   ],
   "source": [
    "gdf_xy = gg.vector.extract_xy(gdf=gdf,\n",
    "                              reset_index=True,\n",
    "                              drop_id=True,\n",
    "                              drop_level0=True,\n",
    "                              drop_level1=True, \n",
    "                              drop_index=True, \n",
    "                              drop_points=True,\n",
    "                              overwrite_xy=True, \n",
    "                              target_crs=gdf.crs,\n",
    "                              bbox = None)\n",
    "\n",
    "gdf_xy.head()"
   ]
  },
  {
   "cell_type": "markdown",
   "metadata": {},
   "source": [
    "### Avoid resetting the index and do not drop ID column\n",
    "\n",
    "This time, the index is not reset and the id column is not dropped. "
   ]
  },
  {
   "cell_type": "code",
   "execution_count": 32,
   "metadata": {
    "ExecuteTime": {
     "end_time": "2020-12-29T14:35:59.923400Z",
     "start_time": "2020-12-29T14:35:59.878384Z"
    }
   },
   "outputs": [
    {
     "data": {
      "text/html": [
       "<div>\n",
       "<style scoped>\n",
       "    .dataframe tbody tr th:only-of-type {\n",
       "        vertical-align: middle;\n",
       "    }\n",
       "\n",
       "    .dataframe tbody tr th {\n",
       "        vertical-align: top;\n",
       "    }\n",
       "\n",
       "    .dataframe thead th {\n",
       "        text-align: right;\n",
       "    }\n",
       "</style>\n",
       "<table border=\"1\" class=\"dataframe\">\n",
       "  <thead>\n",
       "    <tr style=\"text-align: right;\">\n",
       "      <th></th>\n",
       "      <th></th>\n",
       "      <th>geometry</th>\n",
       "      <th>points</th>\n",
       "      <th>X</th>\n",
       "      <th>Y</th>\n",
       "    </tr>\n",
       "  </thead>\n",
       "  <tbody>\n",
       "    <tr>\n",
       "      <th rowspan=\"2\" valign=\"top\">0</th>\n",
       "      <th>0</th>\n",
       "      <td>POINT (0.00000 0.00000)</td>\n",
       "      <td>[0.0, 0.0]</td>\n",
       "      <td>0.00</td>\n",
       "      <td>0.00</td>\n",
       "    </tr>\n",
       "    <tr>\n",
       "      <th>0</th>\n",
       "      <td>POINT (1.00000 1.00000)</td>\n",
       "      <td>[1.0, 1.0]</td>\n",
       "      <td>1.00</td>\n",
       "      <td>1.00</td>\n",
       "    </tr>\n",
       "    <tr>\n",
       "      <th rowspan=\"3\" valign=\"top\">1</th>\n",
       "      <th>0</th>\n",
       "      <td>POINT (0.00000 0.00000)</td>\n",
       "      <td>[0.0, 0.0]</td>\n",
       "      <td>0.00</td>\n",
       "      <td>0.00</td>\n",
       "    </tr>\n",
       "    <tr>\n",
       "      <th>0</th>\n",
       "      <td>POINT (1.00000 1.00000)</td>\n",
       "      <td>[1.0, 1.0]</td>\n",
       "      <td>1.00</td>\n",
       "      <td>1.00</td>\n",
       "    </tr>\n",
       "    <tr>\n",
       "      <th>0</th>\n",
       "      <td>POINT (1.00000 2.00000)</td>\n",
       "      <td>[1.0, 2.0]</td>\n",
       "      <td>1.00</td>\n",
       "      <td>2.00</td>\n",
       "    </tr>\n",
       "  </tbody>\n",
       "</table>\n",
       "</div>"
      ],
      "text/plain": [
       "                    geometry      points    X    Y\n",
       "0 0  POINT (0.00000 0.00000)  [0.0, 0.0] 0.00 0.00\n",
       "  0  POINT (1.00000 1.00000)  [1.0, 1.0] 1.00 1.00\n",
       "1 0  POINT (0.00000 0.00000)  [0.0, 0.0] 0.00 0.00\n",
       "  0  POINT (1.00000 1.00000)  [1.0, 1.0] 1.00 1.00\n",
       "  0  POINT (1.00000 2.00000)  [1.0, 2.0] 1.00 2.00"
      ]
     },
     "execution_count": 32,
     "metadata": {},
     "output_type": "execute_result"
    }
   ],
   "source": [
    "gdf_xy = gg.vector.extract_xy(gdf=gdf,\n",
    "                              reset_index=False,\n",
    "                              drop_id=False,\n",
    "                              drop_level0=True,\n",
    "                              drop_level1=True, \n",
    "                              drop_index=False, \n",
    "                              drop_points=False,\n",
    "                              overwrite_xy=True, \n",
    "                              target_crs=gdf.crs,\n",
    "                              bbox = None)\n",
    "\n",
    "gdf_xy.head()"
   ]
  },
  {
   "cell_type": "markdown",
   "metadata": {},
   "source": [
    "### Resetting the index and keeping index columns\n",
    "\n",
    "The index is reset but the previous index columns ``level_0`` and ``level_1`` are kept."
   ]
  },
  {
   "cell_type": "code",
   "execution_count": 33,
   "metadata": {
    "ExecuteTime": {
     "end_time": "2020-12-29T14:35:59.971439Z",
     "start_time": "2020-12-29T14:35:59.925398Z"
    }
   },
   "outputs": [
    {
     "data": {
      "text/html": [
       "<div>\n",
       "<style scoped>\n",
       "    .dataframe tbody tr th:only-of-type {\n",
       "        vertical-align: middle;\n",
       "    }\n",
       "\n",
       "    .dataframe tbody tr th {\n",
       "        vertical-align: top;\n",
       "    }\n",
       "\n",
       "    .dataframe thead th {\n",
       "        text-align: right;\n",
       "    }\n",
       "</style>\n",
       "<table border=\"1\" class=\"dataframe\">\n",
       "  <thead>\n",
       "    <tr style=\"text-align: right;\">\n",
       "      <th></th>\n",
       "      <th>level_0</th>\n",
       "      <th>level_1</th>\n",
       "      <th>geometry</th>\n",
       "      <th>points</th>\n",
       "      <th>X</th>\n",
       "      <th>Y</th>\n",
       "    </tr>\n",
       "  </thead>\n",
       "  <tbody>\n",
       "    <tr>\n",
       "      <th>0</th>\n",
       "      <td>0</td>\n",
       "      <td>0</td>\n",
       "      <td>POINT (0.00000 0.00000)</td>\n",
       "      <td>[0.0, 0.0]</td>\n",
       "      <td>0.00</td>\n",
       "      <td>0.00</td>\n",
       "    </tr>\n",
       "    <tr>\n",
       "      <th>1</th>\n",
       "      <td>0</td>\n",
       "      <td>0</td>\n",
       "      <td>POINT (1.00000 1.00000)</td>\n",
       "      <td>[1.0, 1.0]</td>\n",
       "      <td>1.00</td>\n",
       "      <td>1.00</td>\n",
       "    </tr>\n",
       "    <tr>\n",
       "      <th>2</th>\n",
       "      <td>1</td>\n",
       "      <td>0</td>\n",
       "      <td>POINT (0.00000 0.00000)</td>\n",
       "      <td>[0.0, 0.0]</td>\n",
       "      <td>0.00</td>\n",
       "      <td>0.00</td>\n",
       "    </tr>\n",
       "    <tr>\n",
       "      <th>3</th>\n",
       "      <td>1</td>\n",
       "      <td>0</td>\n",
       "      <td>POINT (1.00000 1.00000)</td>\n",
       "      <td>[1.0, 1.0]</td>\n",
       "      <td>1.00</td>\n",
       "      <td>1.00</td>\n",
       "    </tr>\n",
       "    <tr>\n",
       "      <th>4</th>\n",
       "      <td>1</td>\n",
       "      <td>0</td>\n",
       "      <td>POINT (1.00000 2.00000)</td>\n",
       "      <td>[1.0, 2.0]</td>\n",
       "      <td>1.00</td>\n",
       "      <td>2.00</td>\n",
       "    </tr>\n",
       "  </tbody>\n",
       "</table>\n",
       "</div>"
      ],
      "text/plain": [
       "   level_0  level_1                 geometry      points    X    Y\n",
       "0        0        0  POINT (0.00000 0.00000)  [0.0, 0.0] 0.00 0.00\n",
       "1        0        0  POINT (1.00000 1.00000)  [1.0, 1.0] 1.00 1.00\n",
       "2        1        0  POINT (0.00000 0.00000)  [0.0, 0.0] 0.00 0.00\n",
       "3        1        0  POINT (1.00000 1.00000)  [1.0, 1.0] 1.00 1.00\n",
       "4        1        0  POINT (1.00000 2.00000)  [1.0, 2.0] 1.00 2.00"
      ]
     },
     "execution_count": 33,
     "metadata": {},
     "output_type": "execute_result"
    }
   ],
   "source": [
    "gdf_xy = gg.vector.extract_xy(gdf=gdf,\n",
    "                              reset_index=True,\n",
    "                              drop_id=False,\n",
    "                              drop_level0=False,\n",
    "                              drop_level1=False, \n",
    "                              drop_index=False, \n",
    "                              drop_points=False,\n",
    "                              overwrite_xy=True, \n",
    "                              target_crs=gdf.crs,\n",
    "                              bbox = None)\n",
    "\n",
    "gdf_xy.head()"
   ]
  },
  {
   "cell_type": "markdown",
   "metadata": {},
   "source": [
    "## Background Functions\n",
    "\n",
    "The function `extract_xy` is a combination of the following functions:\n",
    "\n",
    "- `extract_xy_points`\n",
    "- `extract_xy_linestrings`\n",
    "- `explode_geometry_collection`\n",
    "- `explode_multilinestrings`\n",
    "- `explode_polygons`\n",
    "- `set_dtype`\n",
    "\n",
    "For more information of these functions see the [API Reference](https://gemgis.readthedocs.io/en/latest/api_reference/vector_data.html)."
   ]
  }
 ],
 "metadata": {
  "hide_input": false,
  "kernelspec": {
   "display_name": "Python 3 (ipykernel)",
   "language": "python",
   "name": "python3"
  },
  "language_info": {
   "codemirror_mode": {
    "name": "ipython",
    "version": 3
   },
   "file_extension": ".py",
   "mimetype": "text/x-python",
   "name": "python",
   "nbconvert_exporter": "python",
   "pygments_lexer": "ipython3",
   "version": "3.10.0"
  },
  "varInspector": {
   "cols": {
    "lenName": 16,
    "lenType": 16,
    "lenVar": 40
   },
   "kernels_config": {
    "python": {
     "delete_cmd_postfix": "",
     "delete_cmd_prefix": "del ",
     "library": "var_list.py",
     "varRefreshCmd": "print(var_dic_list())"
    },
    "r": {
     "delete_cmd_postfix": ") ",
     "delete_cmd_prefix": "rm(",
     "library": "var_list.r",
     "varRefreshCmd": "cat(var_dic_list()) "
    }
   },
   "types_to_exclude": [
    "module",
    "function",
    "builtin_function_or_method",
    "instance",
    "_Feature"
   ],
   "window_display": false
  }
 },
 "nbformat": 4,
 "nbformat_minor": 4
}
